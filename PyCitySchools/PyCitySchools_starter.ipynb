{
 "cells": [
  {
   "cell_type": "markdown",
   "metadata": {},
   "source": [
    "### Note\n",
    "* Instructions have been included for each segment. You do not have to follow them exactly, but they are included to help you think through the steps."
   ]
  },
  {
   "cell_type": "code",
   "execution_count": 1,
   "metadata": {},
   "outputs": [],
   "source": [
    "# Dependencies and Setup\n",
    "import pandas as pd\n",
    "import numpy as np\n",
    "\n",
    "# File to Load (Remember to Change These)\n",
    "school_data_to_load = \"Resources/schools_complete.csv\"\n",
    "student_data_to_load = \"Resources/students_complete.csv\"\n",
    "\n",
    "# Read School and Student Data File and store into Pandas DataFrames\n",
    "school_data = pd.read_csv(school_data_to_load)\n",
    "student_data = pd.read_csv(student_data_to_load)\n",
    "\n",
    "# Combine the data into a single dataset.  \n",
    "school_data_complete = pd.merge(student_data, school_data, how=\"left\", on=[\"school_name\", \"school_name\"])"
   ]
  },
  {
   "cell_type": "code",
   "execution_count": 2,
   "metadata": {
    "scrolled": true
   },
   "outputs": [
    {
     "data": {
      "text/html": [
       "<div>\n",
       "<style scoped>\n",
       "    .dataframe tbody tr th:only-of-type {\n",
       "        vertical-align: middle;\n",
       "    }\n",
       "\n",
       "    .dataframe tbody tr th {\n",
       "        vertical-align: top;\n",
       "    }\n",
       "\n",
       "    .dataframe thead th {\n",
       "        text-align: right;\n",
       "    }\n",
       "</style>\n",
       "<table border=\"1\" class=\"dataframe\">\n",
       "  <thead>\n",
       "    <tr style=\"text-align: right;\">\n",
       "      <th></th>\n",
       "      <th>School ID</th>\n",
       "      <th>school_name</th>\n",
       "      <th>type</th>\n",
       "      <th>size</th>\n",
       "      <th>budget</th>\n",
       "    </tr>\n",
       "  </thead>\n",
       "  <tbody>\n",
       "    <tr>\n",
       "      <th>0</th>\n",
       "      <td>0</td>\n",
       "      <td>Huang High School</td>\n",
       "      <td>District</td>\n",
       "      <td>2917</td>\n",
       "      <td>1910635</td>\n",
       "    </tr>\n",
       "    <tr>\n",
       "      <th>1</th>\n",
       "      <td>1</td>\n",
       "      <td>Figueroa High School</td>\n",
       "      <td>District</td>\n",
       "      <td>2949</td>\n",
       "      <td>1884411</td>\n",
       "    </tr>\n",
       "    <tr>\n",
       "      <th>2</th>\n",
       "      <td>2</td>\n",
       "      <td>Shelton High School</td>\n",
       "      <td>Charter</td>\n",
       "      <td>1761</td>\n",
       "      <td>1056600</td>\n",
       "    </tr>\n",
       "    <tr>\n",
       "      <th>3</th>\n",
       "      <td>3</td>\n",
       "      <td>Hernandez High School</td>\n",
       "      <td>District</td>\n",
       "      <td>4635</td>\n",
       "      <td>3022020</td>\n",
       "    </tr>\n",
       "    <tr>\n",
       "      <th>4</th>\n",
       "      <td>4</td>\n",
       "      <td>Griffin High School</td>\n",
       "      <td>Charter</td>\n",
       "      <td>1468</td>\n",
       "      <td>917500</td>\n",
       "    </tr>\n",
       "  </tbody>\n",
       "</table>\n",
       "</div>"
      ],
      "text/plain": [
       "   School ID            school_name      type  size   budget\n",
       "0          0      Huang High School  District  2917  1910635\n",
       "1          1   Figueroa High School  District  2949  1884411\n",
       "2          2    Shelton High School   Charter  1761  1056600\n",
       "3          3  Hernandez High School  District  4635  3022020\n",
       "4          4    Griffin High School   Charter  1468   917500"
      ]
     },
     "execution_count": 2,
     "metadata": {},
     "output_type": "execute_result"
    }
   ],
   "source": [
    "school_data.head()"
   ]
  },
  {
   "cell_type": "code",
   "execution_count": 3,
   "metadata": {},
   "outputs": [
    {
     "data": {
      "text/html": [
       "<div>\n",
       "<style scoped>\n",
       "    .dataframe tbody tr th:only-of-type {\n",
       "        vertical-align: middle;\n",
       "    }\n",
       "\n",
       "    .dataframe tbody tr th {\n",
       "        vertical-align: top;\n",
       "    }\n",
       "\n",
       "    .dataframe thead th {\n",
       "        text-align: right;\n",
       "    }\n",
       "</style>\n",
       "<table border=\"1\" class=\"dataframe\">\n",
       "  <thead>\n",
       "    <tr style=\"text-align: right;\">\n",
       "      <th></th>\n",
       "      <th>Student ID</th>\n",
       "      <th>student_name</th>\n",
       "      <th>gender</th>\n",
       "      <th>grade</th>\n",
       "      <th>school_name</th>\n",
       "      <th>reading_score</th>\n",
       "      <th>math_score</th>\n",
       "    </tr>\n",
       "  </thead>\n",
       "  <tbody>\n",
       "    <tr>\n",
       "      <th>0</th>\n",
       "      <td>0</td>\n",
       "      <td>Paul Bradley</td>\n",
       "      <td>M</td>\n",
       "      <td>9th</td>\n",
       "      <td>Huang High School</td>\n",
       "      <td>66</td>\n",
       "      <td>79</td>\n",
       "    </tr>\n",
       "    <tr>\n",
       "      <th>1</th>\n",
       "      <td>1</td>\n",
       "      <td>Victor Smith</td>\n",
       "      <td>M</td>\n",
       "      <td>12th</td>\n",
       "      <td>Huang High School</td>\n",
       "      <td>94</td>\n",
       "      <td>61</td>\n",
       "    </tr>\n",
       "    <tr>\n",
       "      <th>2</th>\n",
       "      <td>2</td>\n",
       "      <td>Kevin Rodriguez</td>\n",
       "      <td>M</td>\n",
       "      <td>12th</td>\n",
       "      <td>Huang High School</td>\n",
       "      <td>90</td>\n",
       "      <td>60</td>\n",
       "    </tr>\n",
       "    <tr>\n",
       "      <th>3</th>\n",
       "      <td>3</td>\n",
       "      <td>Dr. Richard Scott</td>\n",
       "      <td>M</td>\n",
       "      <td>12th</td>\n",
       "      <td>Huang High School</td>\n",
       "      <td>67</td>\n",
       "      <td>58</td>\n",
       "    </tr>\n",
       "    <tr>\n",
       "      <th>4</th>\n",
       "      <td>4</td>\n",
       "      <td>Bonnie Ray</td>\n",
       "      <td>F</td>\n",
       "      <td>9th</td>\n",
       "      <td>Huang High School</td>\n",
       "      <td>97</td>\n",
       "      <td>84</td>\n",
       "    </tr>\n",
       "  </tbody>\n",
       "</table>\n",
       "</div>"
      ],
      "text/plain": [
       "   Student ID       student_name gender grade        school_name  \\\n",
       "0           0       Paul Bradley      M   9th  Huang High School   \n",
       "1           1       Victor Smith      M  12th  Huang High School   \n",
       "2           2    Kevin Rodriguez      M  12th  Huang High School   \n",
       "3           3  Dr. Richard Scott      M  12th  Huang High School   \n",
       "4           4         Bonnie Ray      F   9th  Huang High School   \n",
       "\n",
       "   reading_score  math_score  \n",
       "0             66          79  \n",
       "1             94          61  \n",
       "2             90          60  \n",
       "3             67          58  \n",
       "4             97          84  "
      ]
     },
     "execution_count": 3,
     "metadata": {},
     "output_type": "execute_result"
    }
   ],
   "source": [
    "student_data.head()"
   ]
  },
  {
   "cell_type": "code",
   "execution_count": 4,
   "metadata": {},
   "outputs": [
    {
     "data": {
      "text/plain": [
       "Student ID        int64\n",
       "student_name     object\n",
       "gender           object\n",
       "grade            object\n",
       "school_name      object\n",
       "reading_score     int64\n",
       "math_score        int64\n",
       "School ID         int64\n",
       "type             object\n",
       "size              int64\n",
       "budget            int64\n",
       "dtype: object"
      ]
     },
     "execution_count": 4,
     "metadata": {},
     "output_type": "execute_result"
    }
   ],
   "source": [
    "# Let's look at the how the elements are viewed in the dataframe.\n",
    "school_data_complete.dtypes"
   ]
  },
  {
   "cell_type": "code",
   "execution_count": 5,
   "metadata": {
    "scrolled": true
   },
   "outputs": [
    {
     "data": {
      "text/html": [
       "<div>\n",
       "<style scoped>\n",
       "    .dataframe tbody tr th:only-of-type {\n",
       "        vertical-align: middle;\n",
       "    }\n",
       "\n",
       "    .dataframe tbody tr th {\n",
       "        vertical-align: top;\n",
       "    }\n",
       "\n",
       "    .dataframe thead th {\n",
       "        text-align: right;\n",
       "    }\n",
       "</style>\n",
       "<table border=\"1\" class=\"dataframe\">\n",
       "  <thead>\n",
       "    <tr style=\"text-align: right;\">\n",
       "      <th></th>\n",
       "      <th>Student ID</th>\n",
       "      <th>student_name</th>\n",
       "      <th>gender</th>\n",
       "      <th>grade</th>\n",
       "      <th>school_name</th>\n",
       "      <th>reading_score</th>\n",
       "      <th>math_score</th>\n",
       "      <th>School ID</th>\n",
       "      <th>type</th>\n",
       "      <th>size</th>\n",
       "      <th>budget</th>\n",
       "    </tr>\n",
       "  </thead>\n",
       "  <tbody>\n",
       "    <tr>\n",
       "      <th>0</th>\n",
       "      <td>0</td>\n",
       "      <td>Paul Bradley</td>\n",
       "      <td>M</td>\n",
       "      <td>9th</td>\n",
       "      <td>Huang High School</td>\n",
       "      <td>66</td>\n",
       "      <td>79</td>\n",
       "      <td>0</td>\n",
       "      <td>District</td>\n",
       "      <td>2917</td>\n",
       "      <td>1910635</td>\n",
       "    </tr>\n",
       "    <tr>\n",
       "      <th>1</th>\n",
       "      <td>1</td>\n",
       "      <td>Victor Smith</td>\n",
       "      <td>M</td>\n",
       "      <td>12th</td>\n",
       "      <td>Huang High School</td>\n",
       "      <td>94</td>\n",
       "      <td>61</td>\n",
       "      <td>0</td>\n",
       "      <td>District</td>\n",
       "      <td>2917</td>\n",
       "      <td>1910635</td>\n",
       "    </tr>\n",
       "    <tr>\n",
       "      <th>2</th>\n",
       "      <td>2</td>\n",
       "      <td>Kevin Rodriguez</td>\n",
       "      <td>M</td>\n",
       "      <td>12th</td>\n",
       "      <td>Huang High School</td>\n",
       "      <td>90</td>\n",
       "      <td>60</td>\n",
       "      <td>0</td>\n",
       "      <td>District</td>\n",
       "      <td>2917</td>\n",
       "      <td>1910635</td>\n",
       "    </tr>\n",
       "    <tr>\n",
       "      <th>3</th>\n",
       "      <td>3</td>\n",
       "      <td>Dr. Richard Scott</td>\n",
       "      <td>M</td>\n",
       "      <td>12th</td>\n",
       "      <td>Huang High School</td>\n",
       "      <td>67</td>\n",
       "      <td>58</td>\n",
       "      <td>0</td>\n",
       "      <td>District</td>\n",
       "      <td>2917</td>\n",
       "      <td>1910635</td>\n",
       "    </tr>\n",
       "    <tr>\n",
       "      <th>4</th>\n",
       "      <td>4</td>\n",
       "      <td>Bonnie Ray</td>\n",
       "      <td>F</td>\n",
       "      <td>9th</td>\n",
       "      <td>Huang High School</td>\n",
       "      <td>97</td>\n",
       "      <td>84</td>\n",
       "      <td>0</td>\n",
       "      <td>District</td>\n",
       "      <td>2917</td>\n",
       "      <td>1910635</td>\n",
       "    </tr>\n",
       "  </tbody>\n",
       "</table>\n",
       "</div>"
      ],
      "text/plain": [
       "   Student ID       student_name gender grade        school_name  \\\n",
       "0           0       Paul Bradley      M   9th  Huang High School   \n",
       "1           1       Victor Smith      M  12th  Huang High School   \n",
       "2           2    Kevin Rodriguez      M  12th  Huang High School   \n",
       "3           3  Dr. Richard Scott      M  12th  Huang High School   \n",
       "4           4         Bonnie Ray      F   9th  Huang High School   \n",
       "\n",
       "   reading_score  math_score  School ID      type  size   budget  \n",
       "0             66          79          0  District  2917  1910635  \n",
       "1             94          61          0  District  2917  1910635  \n",
       "2             90          60          0  District  2917  1910635  \n",
       "3             67          58          0  District  2917  1910635  \n",
       "4             97          84          0  District  2917  1910635  "
      ]
     },
     "execution_count": 5,
     "metadata": {},
     "output_type": "execute_result"
    }
   ],
   "source": [
    "# Let's look at the data\n",
    "school_data_complete.head()"
   ]
  },
  {
   "cell_type": "markdown",
   "metadata": {},
   "source": [
    "## District Summary\n",
    "\n",
    "* Calculate the total number of schools\n",
    "\n",
    "* Calculate the total number of students\n",
    "\n",
    "* Calculate the total budget\n",
    "\n",
    "* Calculate the average math score \n",
    "\n",
    "* Calculate the average reading score\n",
    "\n",
    "* Calculate the percentage of students with a passing math score (70 or greater)\n",
    "\n",
    "* Calculate the percentage of students with a passing reading score (70 or greater)\n",
    "\n",
    "* Calculate the percentage of students who passed math **and** reading (% Overall Passing)\n",
    "\n",
    "* Create a dataframe to hold the above results\n",
    "\n",
    "* Optional: give the displayed data cleaner formatting"
   ]
  },
  {
   "cell_type": "code",
   "execution_count": 6,
   "metadata": {
    "scrolled": true
   },
   "outputs": [
    {
     "data": {
      "text/plain": [
       "array(['Huang High School', 'Figueroa High School', 'Shelton High School',\n",
       "       'Hernandez High School', 'Griffin High School',\n",
       "       'Wilson High School', 'Cabrera High School', 'Bailey High School',\n",
       "       'Holden High School', 'Pena High School', 'Wright High School',\n",
       "       'Rodriguez High School', 'Johnson High School', 'Ford High School',\n",
       "       'Thomas High School'], dtype=object)"
      ]
     },
     "execution_count": 6,
     "metadata": {},
     "output_type": "execute_result"
    }
   ],
   "source": [
    "# Calculate the total number of schools. Let's check the uniques of the schools\n",
    "school_counts = school_data_complete['school_name']\n",
    "school_counts.unique()"
   ]
  },
  {
   "cell_type": "code",
   "execution_count": 7,
   "metadata": {},
   "outputs": [
    {
     "data": {
      "text/plain": [
       "15"
      ]
     },
     "execution_count": 7,
     "metadata": {},
     "output_type": "execute_result"
    }
   ],
   "source": [
    "# Calculate the total number of schools by using nunique function.\n",
    "school_counts = school_data_complete['school_name']\n",
    "total_number_of_district_schools = school_counts.nunique()\n",
    "total_number_of_district_schools"
   ]
  },
  {
   "cell_type": "code",
   "execution_count": 8,
   "metadata": {},
   "outputs": [
    {
     "data": {
      "text/plain": [
       "39170"
      ]
     },
     "execution_count": 8,
     "metadata": {},
     "output_type": "execute_result"
    }
   ],
   "source": [
    "# Calculate the total number of students.\n",
    "total_number_of_district_students = len(school_data_complete['student_name'])\n",
    "total_number_of_district_students"
   ]
  },
  {
   "cell_type": "code",
   "execution_count": 9,
   "metadata": {
    "scrolled": true
   },
   "outputs": [
    {
     "data": {
      "text/html": [
       "<div>\n",
       "<style scoped>\n",
       "    .dataframe tbody tr th:only-of-type {\n",
       "        vertical-align: middle;\n",
       "    }\n",
       "\n",
       "    .dataframe tbody tr th {\n",
       "        vertical-align: top;\n",
       "    }\n",
       "\n",
       "    .dataframe thead th {\n",
       "        text-align: right;\n",
       "    }\n",
       "</style>\n",
       "<table border=\"1\" class=\"dataframe\">\n",
       "  <thead>\n",
       "    <tr style=\"text-align: right;\">\n",
       "      <th></th>\n",
       "      <th>School ID</th>\n",
       "      <th>school_name</th>\n",
       "      <th>type</th>\n",
       "      <th>size</th>\n",
       "      <th>budget</th>\n",
       "    </tr>\n",
       "  </thead>\n",
       "  <tbody>\n",
       "    <tr>\n",
       "      <th>0</th>\n",
       "      <td>0</td>\n",
       "      <td>Huang High School</td>\n",
       "      <td>District</td>\n",
       "      <td>2917</td>\n",
       "      <td>1910635</td>\n",
       "    </tr>\n",
       "    <tr>\n",
       "      <th>1</th>\n",
       "      <td>1</td>\n",
       "      <td>Figueroa High School</td>\n",
       "      <td>District</td>\n",
       "      <td>2949</td>\n",
       "      <td>1884411</td>\n",
       "    </tr>\n",
       "    <tr>\n",
       "      <th>2</th>\n",
       "      <td>2</td>\n",
       "      <td>Shelton High School</td>\n",
       "      <td>Charter</td>\n",
       "      <td>1761</td>\n",
       "      <td>1056600</td>\n",
       "    </tr>\n",
       "    <tr>\n",
       "      <th>3</th>\n",
       "      <td>3</td>\n",
       "      <td>Hernandez High School</td>\n",
       "      <td>District</td>\n",
       "      <td>4635</td>\n",
       "      <td>3022020</td>\n",
       "    </tr>\n",
       "    <tr>\n",
       "      <th>4</th>\n",
       "      <td>4</td>\n",
       "      <td>Griffin High School</td>\n",
       "      <td>Charter</td>\n",
       "      <td>1468</td>\n",
       "      <td>917500</td>\n",
       "    </tr>\n",
       "    <tr>\n",
       "      <th>5</th>\n",
       "      <td>5</td>\n",
       "      <td>Wilson High School</td>\n",
       "      <td>Charter</td>\n",
       "      <td>2283</td>\n",
       "      <td>1319574</td>\n",
       "    </tr>\n",
       "    <tr>\n",
       "      <th>6</th>\n",
       "      <td>6</td>\n",
       "      <td>Cabrera High School</td>\n",
       "      <td>Charter</td>\n",
       "      <td>1858</td>\n",
       "      <td>1081356</td>\n",
       "    </tr>\n",
       "    <tr>\n",
       "      <th>7</th>\n",
       "      <td>7</td>\n",
       "      <td>Bailey High School</td>\n",
       "      <td>District</td>\n",
       "      <td>4976</td>\n",
       "      <td>3124928</td>\n",
       "    </tr>\n",
       "    <tr>\n",
       "      <th>8</th>\n",
       "      <td>8</td>\n",
       "      <td>Holden High School</td>\n",
       "      <td>Charter</td>\n",
       "      <td>427</td>\n",
       "      <td>248087</td>\n",
       "    </tr>\n",
       "    <tr>\n",
       "      <th>9</th>\n",
       "      <td>9</td>\n",
       "      <td>Pena High School</td>\n",
       "      <td>Charter</td>\n",
       "      <td>962</td>\n",
       "      <td>585858</td>\n",
       "    </tr>\n",
       "    <tr>\n",
       "      <th>10</th>\n",
       "      <td>10</td>\n",
       "      <td>Wright High School</td>\n",
       "      <td>Charter</td>\n",
       "      <td>1800</td>\n",
       "      <td>1049400</td>\n",
       "    </tr>\n",
       "    <tr>\n",
       "      <th>11</th>\n",
       "      <td>11</td>\n",
       "      <td>Rodriguez High School</td>\n",
       "      <td>District</td>\n",
       "      <td>3999</td>\n",
       "      <td>2547363</td>\n",
       "    </tr>\n",
       "    <tr>\n",
       "      <th>12</th>\n",
       "      <td>12</td>\n",
       "      <td>Johnson High School</td>\n",
       "      <td>District</td>\n",
       "      <td>4761</td>\n",
       "      <td>3094650</td>\n",
       "    </tr>\n",
       "    <tr>\n",
       "      <th>13</th>\n",
       "      <td>13</td>\n",
       "      <td>Ford High School</td>\n",
       "      <td>District</td>\n",
       "      <td>2739</td>\n",
       "      <td>1763916</td>\n",
       "    </tr>\n",
       "    <tr>\n",
       "      <th>14</th>\n",
       "      <td>14</td>\n",
       "      <td>Thomas High School</td>\n",
       "      <td>Charter</td>\n",
       "      <td>1635</td>\n",
       "      <td>1043130</td>\n",
       "    </tr>\n",
       "  </tbody>\n",
       "</table>\n",
       "</div>"
      ],
      "text/plain": [
       "    School ID            school_name      type  size   budget\n",
       "0           0      Huang High School  District  2917  1910635\n",
       "1           1   Figueroa High School  District  2949  1884411\n",
       "2           2    Shelton High School   Charter  1761  1056600\n",
       "3           3  Hernandez High School  District  4635  3022020\n",
       "4           4    Griffin High School   Charter  1468   917500\n",
       "5           5     Wilson High School   Charter  2283  1319574\n",
       "6           6    Cabrera High School   Charter  1858  1081356\n",
       "7           7     Bailey High School  District  4976  3124928\n",
       "8           8     Holden High School   Charter   427   248087\n",
       "9           9       Pena High School   Charter   962   585858\n",
       "10         10     Wright High School   Charter  1800  1049400\n",
       "11         11  Rodriguez High School  District  3999  2547363\n",
       "12         12    Johnson High School  District  4761  3094650\n",
       "13         13       Ford High School  District  2739  1763916\n",
       "14         14     Thomas High School   Charter  1635  1043130"
      ]
     },
     "execution_count": 9,
     "metadata": {},
     "output_type": "execute_result"
    }
   ],
   "source": [
    "#Let's look at the school_data data frame to find the total budget.\n",
    "school_data"
   ]
  },
  {
   "cell_type": "code",
   "execution_count": 10,
   "metadata": {},
   "outputs": [
    {
     "data": {
      "text/plain": [
       "24649428"
      ]
     },
     "execution_count": 10,
     "metadata": {},
     "output_type": "execute_result"
    }
   ],
   "source": [
    "# Calculate the total budget\n",
    "total_budget = sum(school_data['budget'])\n",
    "\n",
    "total_budget"
   ]
  },
  {
   "cell_type": "code",
   "execution_count": 11,
   "metadata": {},
   "outputs": [
    {
     "data": {
      "text/plain": [
       "78.98537145774827"
      ]
     },
     "execution_count": 11,
     "metadata": {},
     "output_type": "execute_result"
    }
   ],
   "source": [
    "# Calculate the average math score\n",
    "ave_math_scores = school_data_complete['math_score']\n",
    "district_ave_math_scores = sum(ave_math_scores) / len(ave_math_scores)\n",
    "district_ave_math_scores"
   ]
  },
  {
   "cell_type": "code",
   "execution_count": 12,
   "metadata": {},
   "outputs": [
    {
     "data": {
      "text/plain": [
       "81.87784018381414"
      ]
     },
     "execution_count": 12,
     "metadata": {},
     "output_type": "execute_result"
    }
   ],
   "source": [
    "# Calculate the average reading score\n",
    "ave_reading_scores = school_data_complete['reading_score']\n",
    "district_ave_reading_scores = sum(ave_reading_scores) / len(ave_reading_scores)\n",
    "district_ave_reading_scores"
   ]
  },
  {
   "cell_type": "code",
   "execution_count": 13,
   "metadata": {
    "scrolled": false
   },
   "outputs": [
    {
     "data": {
      "text/plain": [
       "29370"
      ]
     },
     "execution_count": 13,
     "metadata": {},
     "output_type": "execute_result"
    }
   ],
   "source": [
    "# Calculate the percentage of students with a passing math score (70 or greater) part 1\n",
    "math_scores = school_data_complete[school_data_complete['math_score'] >= 70].count()['student_name']\n",
    "math_scores"
   ]
  },
  {
   "cell_type": "code",
   "execution_count": 14,
   "metadata": {},
   "outputs": [
    {
     "data": {
      "text/plain": [
       "74.9808526933878"
      ]
     },
     "execution_count": 14,
     "metadata": {},
     "output_type": "execute_result"
    }
   ],
   "source": [
    "# Calculate the percentage of students with a passing math score (70 or greater) part 3\n",
    "percentage_of_passing_math_scores = ((math_scores / total_number_of_district_students) * 100)\n",
    "percentage_of_passing_math_scores"
   ]
  },
  {
   "cell_type": "code",
   "execution_count": 15,
   "metadata": {},
   "outputs": [
    {
     "data": {
      "text/plain": [
       "33610"
      ]
     },
     "execution_count": 15,
     "metadata": {},
     "output_type": "execute_result"
    }
   ],
   "source": [
    "# Calculate the percentage of students with a passing reading score (70 or greater) part 1\n",
    "reading_scores = school_data_complete[school_data_complete['reading_score'] >= 70].count()['student_name']\n",
    "reading_scores"
   ]
  },
  {
   "cell_type": "code",
   "execution_count": 16,
   "metadata": {},
   "outputs": [
    {
     "data": {
      "text/plain": [
       "85.80546336482001"
      ]
     },
     "execution_count": 16,
     "metadata": {},
     "output_type": "execute_result"
    }
   ],
   "source": [
    "# Calculate the percentage of students with a passing reading score (70 or greater) part 4\n",
    "percentage_of_passing_reading_scores = ((reading_scores / total_number_of_district_students) * 100)\n",
    "percentage_of_passing_reading_scores"
   ]
  },
  {
   "cell_type": "code",
   "execution_count": 17,
   "metadata": {},
   "outputs": [
    {
     "data": {
      "text/plain": [
       "25528"
      ]
     },
     "execution_count": 17,
     "metadata": {},
     "output_type": "execute_result"
    }
   ],
   "source": [
    "# Calculate the percentage of students who passed math and reading (% Overall Passing) part 1\n",
    "math_and_reading_scores = school_data_complete[(school_data_complete['reading_score'] >= 70) \n",
    "                        & (school_data_complete['math_score'] >= 70)].count()['student_name']\n",
    "math_and_reading_scores"
   ]
  },
  {
   "cell_type": "code",
   "execution_count": 18,
   "metadata": {},
   "outputs": [
    {
     "data": {
      "text/plain": [
       "65.17232575950983"
      ]
     },
     "execution_count": 18,
     "metadata": {},
     "output_type": "execute_result"
    }
   ],
   "source": [
    "# Calculate the percentage of students who passed math and reading (% Overall Passing) part 3\n",
    "percentage_of_passing_reading_and_math_scores = ((math_and_reading_scores / total_number_of_district_students) * 100)\n",
    "percentage_of_passing_reading_and_math_scores"
   ]
  },
  {
   "cell_type": "code",
   "execution_count": 19,
   "metadata": {},
   "outputs": [
    {
     "data": {
      "text/html": [
       "<div>\n",
       "<style scoped>\n",
       "    .dataframe tbody tr th:only-of-type {\n",
       "        vertical-align: middle;\n",
       "    }\n",
       "\n",
       "    .dataframe tbody tr th {\n",
       "        vertical-align: top;\n",
       "    }\n",
       "\n",
       "    .dataframe thead th {\n",
       "        text-align: right;\n",
       "    }\n",
       "</style>\n",
       "<table border=\"1\" class=\"dataframe\">\n",
       "  <thead>\n",
       "    <tr style=\"text-align: right;\">\n",
       "      <th></th>\n",
       "      <th>Number of Schools</th>\n",
       "      <th>Total Budget</th>\n",
       "      <th>Average Math Score</th>\n",
       "      <th>Average Reading Score</th>\n",
       "      <th>Percentage of Students Passing Math</th>\n",
       "      <th>Percentage of Students Passing Reading</th>\n",
       "      <th>Percentage of Students Passing Math and Reading</th>\n",
       "    </tr>\n",
       "  </thead>\n",
       "  <tbody>\n",
       "    <tr>\n",
       "      <th>0</th>\n",
       "      <td>15</td>\n",
       "      <td>24649428</td>\n",
       "      <td>78.985371</td>\n",
       "      <td>81.87784</td>\n",
       "      <td>74.980853</td>\n",
       "      <td>85.805463</td>\n",
       "      <td>65.172326</td>\n",
       "    </tr>\n",
       "  </tbody>\n",
       "</table>\n",
       "</div>"
      ],
      "text/plain": [
       "   Number of Schools  Total Budget  Average Math Score  Average Reading Score  \\\n",
       "0                 15      24649428           78.985371               81.87784   \n",
       "\n",
       "   Percentage of Students Passing Math  \\\n",
       "0                            74.980853   \n",
       "\n",
       "   Percentage of Students Passing Reading  \\\n",
       "0                               85.805463   \n",
       "\n",
       "   Percentage of Students Passing Math and Reading  \n",
       "0                                        65.172326  "
      ]
     },
     "execution_count": 19,
     "metadata": {},
     "output_type": "execute_result"
    }
   ],
   "source": [
    "# Create a dataframe to hold the above results\n",
    "\n",
    "# Calculate the percentage of students who passed math and reading (% Overall Passing)\n",
    "DS = {'Number of Schools': [total_number_of_district_schools],\n",
    "                    'Total Budget': [total_budget],\n",
    "                    'Average Math Score': [district_ave_math_scores],\n",
    "                    'Average Reading Score': [district_ave_reading_scores],\n",
    "                    'Percentage of Students Passing Math': [percentage_of_passing_math_scores],\n",
    "                    'Percentage of Students Passing Reading': [percentage_of_passing_reading_scores],\n",
    "                    'Percentage of Students Passing Math and Reading': [percentage_of_passing_reading_and_math_scores]\n",
    "                   }\n",
    "District_Summary = pd.DataFrame(data=DS)\n",
    "\n",
    "# Now let's format our results\n",
    "# DS['Total Budget'] = DS['Total Budget'].applymap('${:,.2f}'.format)\n",
    "District_Summary"
   ]
  },
  {
   "cell_type": "markdown",
   "metadata": {},
   "source": [
    "## School Summary"
   ]
  },
  {
   "cell_type": "markdown",
   "metadata": {},
   "source": [
    "* Create an overview table that summarizes key metrics about each school, including:\n",
    "  * School Name\n",
    "  * School Type\n",
    "  * Total Students\n",
    "  * Total School Budget\n",
    "  * Per Student Budget\n",
    "  * Average Math Score\n",
    "  * Average Reading Score\n",
    "  * % Passing Math\n",
    "  * % Passing Reading\n",
    "  * % Overall Passing (The percentage of students that passed math **and** reading.)\n",
    "  \n",
    "* Create a dataframe to hold the above results"
   ]
  },
  {
   "cell_type": "code",
   "execution_count": 20,
   "metadata": {},
   "outputs": [],
   "source": [
    "# First we group by school.\n",
    "school_by_name = school_data_complete.set_index('school_name').groupby(['school_name'])"
   ]
  },
  {
   "cell_type": "code",
   "execution_count": 21,
   "metadata": {},
   "outputs": [],
   "source": [
    "# Now we index the school types to figure out if the schools are district or charter.\n",
    "type_of_schools = school_data.set_index('school_name')['type']"
   ]
  },
  {
   "cell_type": "code",
   "execution_count": 22,
   "metadata": {},
   "outputs": [],
   "source": [
    "# We find the total number of students by school.\n",
    "students_per_school = school_by_name['Student ID'].count()"
   ]
  },
  {
   "cell_type": "code",
   "execution_count": 23,
   "metadata": {},
   "outputs": [],
   "source": [
    "# Create an index for the school budget.\n",
    "school_budget = school_data.set_index('school_name')['budget']"
   ]
  },
  {
   "cell_type": "code",
   "execution_count": 24,
   "metadata": {},
   "outputs": [],
   "source": [
    "# Create an index for budget per student.\n",
    "student_budget = school_data.set_index('school_name')['budget']/school_data.set_index('school_name')['size']"
   ]
  },
  {
   "cell_type": "code",
   "execution_count": 25,
   "metadata": {},
   "outputs": [],
   "source": [
    "# Calculate the average math and reading scores by school.\n",
    "avg_math_scores = school_by_name['math_score'].mean()\n",
    "avg_reading_scores = school_by_name['reading_score'].mean()"
   ]
  },
  {
   "cell_type": "code",
   "execution_count": 26,
   "metadata": {},
   "outputs": [],
   "source": [
    "# Calculate the percentage of passing scores.\n",
    "passing_math_scores = school_data_complete[school_data_complete['math_score'] >= 70].groupby('school_name')['Student ID'].count()/students_per_school\n",
    "passing_reading_scores = school_data_complete[school_data_complete['reading_score'] >= 70].groupby('school_name')['Student ID'].count()/students_per_school\n",
    "overall_passing_scores = school_data_complete[(school_data_complete['reading_score'] >= 70) & (school_data_complete['math_score'] >= 70)].groupby('school_name')['Student ID'].count()/students_per_school"
   ]
  },
  {
   "cell_type": "code",
   "execution_count": 27,
   "metadata": {},
   "outputs": [
    {
     "data": {
      "text/html": [
       "<style  type=\"text/css\" >\n",
       "</style><table id=\"T_7c4d2184_3cee_11eb_9550_367ddaacacc8\" ><thead>    <tr>        <th class=\"blank level0\" ></th>        <th class=\"col_heading level0 col0\" >School Type</th>        <th class=\"col_heading level0 col1\" >Total Students</th>        <th class=\"col_heading level0 col2\" >Total School Budget</th>        <th class=\"col_heading level0 col3\" >Per Student Budget</th>        <th class=\"col_heading level0 col4\" >Average Math Score</th>        <th class=\"col_heading level0 col5\" >Average Reading Score</th>        <th class=\"col_heading level0 col6\" >% Passing Math</th>        <th class=\"col_heading level0 col7\" >% Passing Reading</th>        <th class=\"col_heading level0 col8\" >Overall Passing Rate</th>    </tr></thead><tbody>\n",
       "                <tr>\n",
       "                        <th id=\"T_7c4d2184_3cee_11eb_9550_367ddaacacc8level0_row0\" class=\"row_heading level0 row0\" >Bailey High School</th>\n",
       "                        <td id=\"T_7c4d2184_3cee_11eb_9550_367ddaacacc8row0_col0\" class=\"data row0 col0\" >District</td>\n",
       "                        <td id=\"T_7c4d2184_3cee_11eb_9550_367ddaacacc8row0_col1\" class=\"data row0 col1\" >4,976</td>\n",
       "                        <td id=\"T_7c4d2184_3cee_11eb_9550_367ddaacacc8row0_col2\" class=\"data row0 col2\" >$628.0</td>\n",
       "                        <td id=\"T_7c4d2184_3cee_11eb_9550_367ddaacacc8row0_col3\" class=\"data row0 col3\" >$3124928</td>\n",
       "                        <td id=\"T_7c4d2184_3cee_11eb_9550_367ddaacacc8row0_col4\" class=\"data row0 col4\" >77.0</td>\n",
       "                        <td id=\"T_7c4d2184_3cee_11eb_9550_367ddaacacc8row0_col5\" class=\"data row0 col5\" >81.0</td>\n",
       "                        <td id=\"T_7c4d2184_3cee_11eb_9550_367ddaacacc8row0_col6\" class=\"data row0 col6\" >66.7%</td>\n",
       "                        <td id=\"T_7c4d2184_3cee_11eb_9550_367ddaacacc8row0_col7\" class=\"data row0 col7\" >81.9%</td>\n",
       "                        <td id=\"T_7c4d2184_3cee_11eb_9550_367ddaacacc8row0_col8\" class=\"data row0 col8\" >54.6%</td>\n",
       "            </tr>\n",
       "            <tr>\n",
       "                        <th id=\"T_7c4d2184_3cee_11eb_9550_367ddaacacc8level0_row1\" class=\"row_heading level0 row1\" >Cabrera High School</th>\n",
       "                        <td id=\"T_7c4d2184_3cee_11eb_9550_367ddaacacc8row1_col0\" class=\"data row1 col0\" >Charter</td>\n",
       "                        <td id=\"T_7c4d2184_3cee_11eb_9550_367ddaacacc8row1_col1\" class=\"data row1 col1\" >1,858</td>\n",
       "                        <td id=\"T_7c4d2184_3cee_11eb_9550_367ddaacacc8row1_col2\" class=\"data row1 col2\" >$582.0</td>\n",
       "                        <td id=\"T_7c4d2184_3cee_11eb_9550_367ddaacacc8row1_col3\" class=\"data row1 col3\" >$1081356</td>\n",
       "                        <td id=\"T_7c4d2184_3cee_11eb_9550_367ddaacacc8row1_col4\" class=\"data row1 col4\" >83.1</td>\n",
       "                        <td id=\"T_7c4d2184_3cee_11eb_9550_367ddaacacc8row1_col5\" class=\"data row1 col5\" >84.0</td>\n",
       "                        <td id=\"T_7c4d2184_3cee_11eb_9550_367ddaacacc8row1_col6\" class=\"data row1 col6\" >94.1%</td>\n",
       "                        <td id=\"T_7c4d2184_3cee_11eb_9550_367ddaacacc8row1_col7\" class=\"data row1 col7\" >97.0%</td>\n",
       "                        <td id=\"T_7c4d2184_3cee_11eb_9550_367ddaacacc8row1_col8\" class=\"data row1 col8\" >91.3%</td>\n",
       "            </tr>\n",
       "            <tr>\n",
       "                        <th id=\"T_7c4d2184_3cee_11eb_9550_367ddaacacc8level0_row2\" class=\"row_heading level0 row2\" >Figueroa High School</th>\n",
       "                        <td id=\"T_7c4d2184_3cee_11eb_9550_367ddaacacc8row2_col0\" class=\"data row2 col0\" >District</td>\n",
       "                        <td id=\"T_7c4d2184_3cee_11eb_9550_367ddaacacc8row2_col1\" class=\"data row2 col1\" >2,949</td>\n",
       "                        <td id=\"T_7c4d2184_3cee_11eb_9550_367ddaacacc8row2_col2\" class=\"data row2 col2\" >$639.0</td>\n",
       "                        <td id=\"T_7c4d2184_3cee_11eb_9550_367ddaacacc8row2_col3\" class=\"data row2 col3\" >$1884411</td>\n",
       "                        <td id=\"T_7c4d2184_3cee_11eb_9550_367ddaacacc8row2_col4\" class=\"data row2 col4\" >76.7</td>\n",
       "                        <td id=\"T_7c4d2184_3cee_11eb_9550_367ddaacacc8row2_col5\" class=\"data row2 col5\" >81.2</td>\n",
       "                        <td id=\"T_7c4d2184_3cee_11eb_9550_367ddaacacc8row2_col6\" class=\"data row2 col6\" >66.0%</td>\n",
       "                        <td id=\"T_7c4d2184_3cee_11eb_9550_367ddaacacc8row2_col7\" class=\"data row2 col7\" >80.7%</td>\n",
       "                        <td id=\"T_7c4d2184_3cee_11eb_9550_367ddaacacc8row2_col8\" class=\"data row2 col8\" >53.2%</td>\n",
       "            </tr>\n",
       "            <tr>\n",
       "                        <th id=\"T_7c4d2184_3cee_11eb_9550_367ddaacacc8level0_row3\" class=\"row_heading level0 row3\" >Ford High School</th>\n",
       "                        <td id=\"T_7c4d2184_3cee_11eb_9550_367ddaacacc8row3_col0\" class=\"data row3 col0\" >District</td>\n",
       "                        <td id=\"T_7c4d2184_3cee_11eb_9550_367ddaacacc8row3_col1\" class=\"data row3 col1\" >2,739</td>\n",
       "                        <td id=\"T_7c4d2184_3cee_11eb_9550_367ddaacacc8row3_col2\" class=\"data row3 col2\" >$644.0</td>\n",
       "                        <td id=\"T_7c4d2184_3cee_11eb_9550_367ddaacacc8row3_col3\" class=\"data row3 col3\" >$1763916</td>\n",
       "                        <td id=\"T_7c4d2184_3cee_11eb_9550_367ddaacacc8row3_col4\" class=\"data row3 col4\" >77.1</td>\n",
       "                        <td id=\"T_7c4d2184_3cee_11eb_9550_367ddaacacc8row3_col5\" class=\"data row3 col5\" >80.7</td>\n",
       "                        <td id=\"T_7c4d2184_3cee_11eb_9550_367ddaacacc8row3_col6\" class=\"data row3 col6\" >68.3%</td>\n",
       "                        <td id=\"T_7c4d2184_3cee_11eb_9550_367ddaacacc8row3_col7\" class=\"data row3 col7\" >79.3%</td>\n",
       "                        <td id=\"T_7c4d2184_3cee_11eb_9550_367ddaacacc8row3_col8\" class=\"data row3 col8\" >54.3%</td>\n",
       "            </tr>\n",
       "            <tr>\n",
       "                        <th id=\"T_7c4d2184_3cee_11eb_9550_367ddaacacc8level0_row4\" class=\"row_heading level0 row4\" >Griffin High School</th>\n",
       "                        <td id=\"T_7c4d2184_3cee_11eb_9550_367ddaacacc8row4_col0\" class=\"data row4 col0\" >Charter</td>\n",
       "                        <td id=\"T_7c4d2184_3cee_11eb_9550_367ddaacacc8row4_col1\" class=\"data row4 col1\" >1,468</td>\n",
       "                        <td id=\"T_7c4d2184_3cee_11eb_9550_367ddaacacc8row4_col2\" class=\"data row4 col2\" >$625.0</td>\n",
       "                        <td id=\"T_7c4d2184_3cee_11eb_9550_367ddaacacc8row4_col3\" class=\"data row4 col3\" >$917500</td>\n",
       "                        <td id=\"T_7c4d2184_3cee_11eb_9550_367ddaacacc8row4_col4\" class=\"data row4 col4\" >83.4</td>\n",
       "                        <td id=\"T_7c4d2184_3cee_11eb_9550_367ddaacacc8row4_col5\" class=\"data row4 col5\" >83.8</td>\n",
       "                        <td id=\"T_7c4d2184_3cee_11eb_9550_367ddaacacc8row4_col6\" class=\"data row4 col6\" >93.4%</td>\n",
       "                        <td id=\"T_7c4d2184_3cee_11eb_9550_367ddaacacc8row4_col7\" class=\"data row4 col7\" >97.1%</td>\n",
       "                        <td id=\"T_7c4d2184_3cee_11eb_9550_367ddaacacc8row4_col8\" class=\"data row4 col8\" >90.6%</td>\n",
       "            </tr>\n",
       "            <tr>\n",
       "                        <th id=\"T_7c4d2184_3cee_11eb_9550_367ddaacacc8level0_row5\" class=\"row_heading level0 row5\" >Hernandez High School</th>\n",
       "                        <td id=\"T_7c4d2184_3cee_11eb_9550_367ddaacacc8row5_col0\" class=\"data row5 col0\" >District</td>\n",
       "                        <td id=\"T_7c4d2184_3cee_11eb_9550_367ddaacacc8row5_col1\" class=\"data row5 col1\" >4,635</td>\n",
       "                        <td id=\"T_7c4d2184_3cee_11eb_9550_367ddaacacc8row5_col2\" class=\"data row5 col2\" >$652.0</td>\n",
       "                        <td id=\"T_7c4d2184_3cee_11eb_9550_367ddaacacc8row5_col3\" class=\"data row5 col3\" >$3022020</td>\n",
       "                        <td id=\"T_7c4d2184_3cee_11eb_9550_367ddaacacc8row5_col4\" class=\"data row5 col4\" >77.3</td>\n",
       "                        <td id=\"T_7c4d2184_3cee_11eb_9550_367ddaacacc8row5_col5\" class=\"data row5 col5\" >80.9</td>\n",
       "                        <td id=\"T_7c4d2184_3cee_11eb_9550_367ddaacacc8row5_col6\" class=\"data row5 col6\" >66.8%</td>\n",
       "                        <td id=\"T_7c4d2184_3cee_11eb_9550_367ddaacacc8row5_col7\" class=\"data row5 col7\" >80.9%</td>\n",
       "                        <td id=\"T_7c4d2184_3cee_11eb_9550_367ddaacacc8row5_col8\" class=\"data row5 col8\" >53.5%</td>\n",
       "            </tr>\n",
       "            <tr>\n",
       "                        <th id=\"T_7c4d2184_3cee_11eb_9550_367ddaacacc8level0_row6\" class=\"row_heading level0 row6\" >Holden High School</th>\n",
       "                        <td id=\"T_7c4d2184_3cee_11eb_9550_367ddaacacc8row6_col0\" class=\"data row6 col0\" >Charter</td>\n",
       "                        <td id=\"T_7c4d2184_3cee_11eb_9550_367ddaacacc8row6_col1\" class=\"data row6 col1\" >427</td>\n",
       "                        <td id=\"T_7c4d2184_3cee_11eb_9550_367ddaacacc8row6_col2\" class=\"data row6 col2\" >$581.0</td>\n",
       "                        <td id=\"T_7c4d2184_3cee_11eb_9550_367ddaacacc8row6_col3\" class=\"data row6 col3\" >$248087</td>\n",
       "                        <td id=\"T_7c4d2184_3cee_11eb_9550_367ddaacacc8row6_col4\" class=\"data row6 col4\" >83.8</td>\n",
       "                        <td id=\"T_7c4d2184_3cee_11eb_9550_367ddaacacc8row6_col5\" class=\"data row6 col5\" >83.8</td>\n",
       "                        <td id=\"T_7c4d2184_3cee_11eb_9550_367ddaacacc8row6_col6\" class=\"data row6 col6\" >92.5%</td>\n",
       "                        <td id=\"T_7c4d2184_3cee_11eb_9550_367ddaacacc8row6_col7\" class=\"data row6 col7\" >96.3%</td>\n",
       "                        <td id=\"T_7c4d2184_3cee_11eb_9550_367ddaacacc8row6_col8\" class=\"data row6 col8\" >89.2%</td>\n",
       "            </tr>\n",
       "            <tr>\n",
       "                        <th id=\"T_7c4d2184_3cee_11eb_9550_367ddaacacc8level0_row7\" class=\"row_heading level0 row7\" >Huang High School</th>\n",
       "                        <td id=\"T_7c4d2184_3cee_11eb_9550_367ddaacacc8row7_col0\" class=\"data row7 col0\" >District</td>\n",
       "                        <td id=\"T_7c4d2184_3cee_11eb_9550_367ddaacacc8row7_col1\" class=\"data row7 col1\" >2,917</td>\n",
       "                        <td id=\"T_7c4d2184_3cee_11eb_9550_367ddaacacc8row7_col2\" class=\"data row7 col2\" >$655.0</td>\n",
       "                        <td id=\"T_7c4d2184_3cee_11eb_9550_367ddaacacc8row7_col3\" class=\"data row7 col3\" >$1910635</td>\n",
       "                        <td id=\"T_7c4d2184_3cee_11eb_9550_367ddaacacc8row7_col4\" class=\"data row7 col4\" >76.6</td>\n",
       "                        <td id=\"T_7c4d2184_3cee_11eb_9550_367ddaacacc8row7_col5\" class=\"data row7 col5\" >81.2</td>\n",
       "                        <td id=\"T_7c4d2184_3cee_11eb_9550_367ddaacacc8row7_col6\" class=\"data row7 col6\" >65.7%</td>\n",
       "                        <td id=\"T_7c4d2184_3cee_11eb_9550_367ddaacacc8row7_col7\" class=\"data row7 col7\" >81.3%</td>\n",
       "                        <td id=\"T_7c4d2184_3cee_11eb_9550_367ddaacacc8row7_col8\" class=\"data row7 col8\" >53.5%</td>\n",
       "            </tr>\n",
       "            <tr>\n",
       "                        <th id=\"T_7c4d2184_3cee_11eb_9550_367ddaacacc8level0_row8\" class=\"row_heading level0 row8\" >Johnson High School</th>\n",
       "                        <td id=\"T_7c4d2184_3cee_11eb_9550_367ddaacacc8row8_col0\" class=\"data row8 col0\" >District</td>\n",
       "                        <td id=\"T_7c4d2184_3cee_11eb_9550_367ddaacacc8row8_col1\" class=\"data row8 col1\" >4,761</td>\n",
       "                        <td id=\"T_7c4d2184_3cee_11eb_9550_367ddaacacc8row8_col2\" class=\"data row8 col2\" >$650.0</td>\n",
       "                        <td id=\"T_7c4d2184_3cee_11eb_9550_367ddaacacc8row8_col3\" class=\"data row8 col3\" >$3094650</td>\n",
       "                        <td id=\"T_7c4d2184_3cee_11eb_9550_367ddaacacc8row8_col4\" class=\"data row8 col4\" >77.1</td>\n",
       "                        <td id=\"T_7c4d2184_3cee_11eb_9550_367ddaacacc8row8_col5\" class=\"data row8 col5\" >81.0</td>\n",
       "                        <td id=\"T_7c4d2184_3cee_11eb_9550_367ddaacacc8row8_col6\" class=\"data row8 col6\" >66.1%</td>\n",
       "                        <td id=\"T_7c4d2184_3cee_11eb_9550_367ddaacacc8row8_col7\" class=\"data row8 col7\" >81.2%</td>\n",
       "                        <td id=\"T_7c4d2184_3cee_11eb_9550_367ddaacacc8row8_col8\" class=\"data row8 col8\" >53.5%</td>\n",
       "            </tr>\n",
       "            <tr>\n",
       "                        <th id=\"T_7c4d2184_3cee_11eb_9550_367ddaacacc8level0_row9\" class=\"row_heading level0 row9\" >Pena High School</th>\n",
       "                        <td id=\"T_7c4d2184_3cee_11eb_9550_367ddaacacc8row9_col0\" class=\"data row9 col0\" >Charter</td>\n",
       "                        <td id=\"T_7c4d2184_3cee_11eb_9550_367ddaacacc8row9_col1\" class=\"data row9 col1\" >962</td>\n",
       "                        <td id=\"T_7c4d2184_3cee_11eb_9550_367ddaacacc8row9_col2\" class=\"data row9 col2\" >$609.0</td>\n",
       "                        <td id=\"T_7c4d2184_3cee_11eb_9550_367ddaacacc8row9_col3\" class=\"data row9 col3\" >$585858</td>\n",
       "                        <td id=\"T_7c4d2184_3cee_11eb_9550_367ddaacacc8row9_col4\" class=\"data row9 col4\" >83.8</td>\n",
       "                        <td id=\"T_7c4d2184_3cee_11eb_9550_367ddaacacc8row9_col5\" class=\"data row9 col5\" >84.0</td>\n",
       "                        <td id=\"T_7c4d2184_3cee_11eb_9550_367ddaacacc8row9_col6\" class=\"data row9 col6\" >94.6%</td>\n",
       "                        <td id=\"T_7c4d2184_3cee_11eb_9550_367ddaacacc8row9_col7\" class=\"data row9 col7\" >95.9%</td>\n",
       "                        <td id=\"T_7c4d2184_3cee_11eb_9550_367ddaacacc8row9_col8\" class=\"data row9 col8\" >90.5%</td>\n",
       "            </tr>\n",
       "            <tr>\n",
       "                        <th id=\"T_7c4d2184_3cee_11eb_9550_367ddaacacc8level0_row10\" class=\"row_heading level0 row10\" >Rodriguez High School</th>\n",
       "                        <td id=\"T_7c4d2184_3cee_11eb_9550_367ddaacacc8row10_col0\" class=\"data row10 col0\" >District</td>\n",
       "                        <td id=\"T_7c4d2184_3cee_11eb_9550_367ddaacacc8row10_col1\" class=\"data row10 col1\" >3,999</td>\n",
       "                        <td id=\"T_7c4d2184_3cee_11eb_9550_367ddaacacc8row10_col2\" class=\"data row10 col2\" >$637.0</td>\n",
       "                        <td id=\"T_7c4d2184_3cee_11eb_9550_367ddaacacc8row10_col3\" class=\"data row10 col3\" >$2547363</td>\n",
       "                        <td id=\"T_7c4d2184_3cee_11eb_9550_367ddaacacc8row10_col4\" class=\"data row10 col4\" >76.8</td>\n",
       "                        <td id=\"T_7c4d2184_3cee_11eb_9550_367ddaacacc8row10_col5\" class=\"data row10 col5\" >80.7</td>\n",
       "                        <td id=\"T_7c4d2184_3cee_11eb_9550_367ddaacacc8row10_col6\" class=\"data row10 col6\" >66.4%</td>\n",
       "                        <td id=\"T_7c4d2184_3cee_11eb_9550_367ddaacacc8row10_col7\" class=\"data row10 col7\" >80.2%</td>\n",
       "                        <td id=\"T_7c4d2184_3cee_11eb_9550_367ddaacacc8row10_col8\" class=\"data row10 col8\" >53.0%</td>\n",
       "            </tr>\n",
       "            <tr>\n",
       "                        <th id=\"T_7c4d2184_3cee_11eb_9550_367ddaacacc8level0_row11\" class=\"row_heading level0 row11\" >Shelton High School</th>\n",
       "                        <td id=\"T_7c4d2184_3cee_11eb_9550_367ddaacacc8row11_col0\" class=\"data row11 col0\" >Charter</td>\n",
       "                        <td id=\"T_7c4d2184_3cee_11eb_9550_367ddaacacc8row11_col1\" class=\"data row11 col1\" >1,761</td>\n",
       "                        <td id=\"T_7c4d2184_3cee_11eb_9550_367ddaacacc8row11_col2\" class=\"data row11 col2\" >$600.0</td>\n",
       "                        <td id=\"T_7c4d2184_3cee_11eb_9550_367ddaacacc8row11_col3\" class=\"data row11 col3\" >$1056600</td>\n",
       "                        <td id=\"T_7c4d2184_3cee_11eb_9550_367ddaacacc8row11_col4\" class=\"data row11 col4\" >83.4</td>\n",
       "                        <td id=\"T_7c4d2184_3cee_11eb_9550_367ddaacacc8row11_col5\" class=\"data row11 col5\" >83.7</td>\n",
       "                        <td id=\"T_7c4d2184_3cee_11eb_9550_367ddaacacc8row11_col6\" class=\"data row11 col6\" >93.9%</td>\n",
       "                        <td id=\"T_7c4d2184_3cee_11eb_9550_367ddaacacc8row11_col7\" class=\"data row11 col7\" >95.9%</td>\n",
       "                        <td id=\"T_7c4d2184_3cee_11eb_9550_367ddaacacc8row11_col8\" class=\"data row11 col8\" >89.9%</td>\n",
       "            </tr>\n",
       "            <tr>\n",
       "                        <th id=\"T_7c4d2184_3cee_11eb_9550_367ddaacacc8level0_row12\" class=\"row_heading level0 row12\" >Thomas High School</th>\n",
       "                        <td id=\"T_7c4d2184_3cee_11eb_9550_367ddaacacc8row12_col0\" class=\"data row12 col0\" >Charter</td>\n",
       "                        <td id=\"T_7c4d2184_3cee_11eb_9550_367ddaacacc8row12_col1\" class=\"data row12 col1\" >1,635</td>\n",
       "                        <td id=\"T_7c4d2184_3cee_11eb_9550_367ddaacacc8row12_col2\" class=\"data row12 col2\" >$638.0</td>\n",
       "                        <td id=\"T_7c4d2184_3cee_11eb_9550_367ddaacacc8row12_col3\" class=\"data row12 col3\" >$1043130</td>\n",
       "                        <td id=\"T_7c4d2184_3cee_11eb_9550_367ddaacacc8row12_col4\" class=\"data row12 col4\" >83.4</td>\n",
       "                        <td id=\"T_7c4d2184_3cee_11eb_9550_367ddaacacc8row12_col5\" class=\"data row12 col5\" >83.8</td>\n",
       "                        <td id=\"T_7c4d2184_3cee_11eb_9550_367ddaacacc8row12_col6\" class=\"data row12 col6\" >93.3%</td>\n",
       "                        <td id=\"T_7c4d2184_3cee_11eb_9550_367ddaacacc8row12_col7\" class=\"data row12 col7\" >97.3%</td>\n",
       "                        <td id=\"T_7c4d2184_3cee_11eb_9550_367ddaacacc8row12_col8\" class=\"data row12 col8\" >90.9%</td>\n",
       "            </tr>\n",
       "            <tr>\n",
       "                        <th id=\"T_7c4d2184_3cee_11eb_9550_367ddaacacc8level0_row13\" class=\"row_heading level0 row13\" >Wilson High School</th>\n",
       "                        <td id=\"T_7c4d2184_3cee_11eb_9550_367ddaacacc8row13_col0\" class=\"data row13 col0\" >Charter</td>\n",
       "                        <td id=\"T_7c4d2184_3cee_11eb_9550_367ddaacacc8row13_col1\" class=\"data row13 col1\" >2,283</td>\n",
       "                        <td id=\"T_7c4d2184_3cee_11eb_9550_367ddaacacc8row13_col2\" class=\"data row13 col2\" >$578.0</td>\n",
       "                        <td id=\"T_7c4d2184_3cee_11eb_9550_367ddaacacc8row13_col3\" class=\"data row13 col3\" >$1319574</td>\n",
       "                        <td id=\"T_7c4d2184_3cee_11eb_9550_367ddaacacc8row13_col4\" class=\"data row13 col4\" >83.3</td>\n",
       "                        <td id=\"T_7c4d2184_3cee_11eb_9550_367ddaacacc8row13_col5\" class=\"data row13 col5\" >84.0</td>\n",
       "                        <td id=\"T_7c4d2184_3cee_11eb_9550_367ddaacacc8row13_col6\" class=\"data row13 col6\" >93.9%</td>\n",
       "                        <td id=\"T_7c4d2184_3cee_11eb_9550_367ddaacacc8row13_col7\" class=\"data row13 col7\" >96.5%</td>\n",
       "                        <td id=\"T_7c4d2184_3cee_11eb_9550_367ddaacacc8row13_col8\" class=\"data row13 col8\" >90.6%</td>\n",
       "            </tr>\n",
       "            <tr>\n",
       "                        <th id=\"T_7c4d2184_3cee_11eb_9550_367ddaacacc8level0_row14\" class=\"row_heading level0 row14\" >Wright High School</th>\n",
       "                        <td id=\"T_7c4d2184_3cee_11eb_9550_367ddaacacc8row14_col0\" class=\"data row14 col0\" >Charter</td>\n",
       "                        <td id=\"T_7c4d2184_3cee_11eb_9550_367ddaacacc8row14_col1\" class=\"data row14 col1\" >1,800</td>\n",
       "                        <td id=\"T_7c4d2184_3cee_11eb_9550_367ddaacacc8row14_col2\" class=\"data row14 col2\" >$583.0</td>\n",
       "                        <td id=\"T_7c4d2184_3cee_11eb_9550_367ddaacacc8row14_col3\" class=\"data row14 col3\" >$1049400</td>\n",
       "                        <td id=\"T_7c4d2184_3cee_11eb_9550_367ddaacacc8row14_col4\" class=\"data row14 col4\" >83.7</td>\n",
       "                        <td id=\"T_7c4d2184_3cee_11eb_9550_367ddaacacc8row14_col5\" class=\"data row14 col5\" >84.0</td>\n",
       "                        <td id=\"T_7c4d2184_3cee_11eb_9550_367ddaacacc8row14_col6\" class=\"data row14 col6\" >93.3%</td>\n",
       "                        <td id=\"T_7c4d2184_3cee_11eb_9550_367ddaacacc8row14_col7\" class=\"data row14 col7\" >96.6%</td>\n",
       "                        <td id=\"T_7c4d2184_3cee_11eb_9550_367ddaacacc8row14_col8\" class=\"data row14 col8\" >90.3%</td>\n",
       "            </tr>\n",
       "    </tbody></table>"
      ],
      "text/plain": [
       "<pandas.io.formats.style.Styler at 0x7fd487799e80>"
      ]
     },
     "execution_count": 27,
     "metadata": {},
     "output_type": "execute_result"
    }
   ],
   "source": [
    "# Create a data frame for school summary.\n",
    "\n",
    "school_summary = pd.DataFrame({\n",
    "    \"School Type\": type_of_schools,\n",
    "    \"Total Students\": students_per_school,\n",
    "    \"Per Student Budget\": school_budget,\n",
    "    \"Total School Budget\": student_budget,\n",
    "    \"Average Math Score\": avg_math_scores,\n",
    "    \"Average Reading Score\": avg_reading_scores,\n",
    "    '% Passing Math': passing_math_scores,\n",
    "    '% Passing Reading': passing_reading_scores,\n",
    "    \"Overall Passing Rate\": overall_passing_scores\n",
    "})\n",
    "\n",
    "\n",
    "\n",
    "\n",
    "\n",
    "school_summary = school_summary[['School Type', \n",
    "                          'Total Students', \n",
    "                          'Total School Budget', \n",
    "                          'Per Student Budget', \n",
    "                          'Average Math Score', \n",
    "                          'Average Reading Score',\n",
    "                          '% Passing Math',\n",
    "                          '% Passing Reading',\n",
    "                          'Overall Passing Rate']]\n",
    "\n",
    "#formatting\n",
    "school_summary.style.format({'Total Students': '{:,}', \n",
    "                          \"Total School Budget\": \"${:,}\", \n",
    "                          \"Per Student Budget\": \"${:.0f}\",\n",
    "                          'Average Math Score': \"{:.1f}\", \n",
    "                          'Average Reading Score': \"{:.1f}\", \n",
    "                          \"% Passing Math\": \"{:.1%}\", \n",
    "                          \"% Passing Reading\": \"{:.1%}\", \n",
    "                          \"Overall Passing Rate\": \"{:.1%}\"})"
   ]
  },
  {
   "cell_type": "markdown",
   "metadata": {},
   "source": [
    "## Top Performing Schools (By % Overall Passing)"
   ]
  },
  {
   "cell_type": "markdown",
   "metadata": {},
   "source": [
    "* Sort and display the top five performing schools by % overall passing."
   ]
  },
  {
   "cell_type": "code",
   "execution_count": 28,
   "metadata": {},
   "outputs": [
    {
     "data": {
      "text/html": [
       "<style  type=\"text/css\" >\n",
       "</style><table id=\"T_7c4f300a_3cee_11eb_9550_367ddaacacc8\" ><thead>    <tr>        <th class=\"blank level0\" ></th>        <th class=\"col_heading level0 col0\" >School Type</th>        <th class=\"col_heading level0 col1\" >Total Students</th>        <th class=\"col_heading level0 col2\" >Total School Budget</th>        <th class=\"col_heading level0 col3\" >Per Student Budget</th>        <th class=\"col_heading level0 col4\" >Average Math Score</th>        <th class=\"col_heading level0 col5\" >Average Reading Score</th>        <th class=\"col_heading level0 col6\" >% Passing Math</th>        <th class=\"col_heading level0 col7\" >% Passing Reading</th>        <th class=\"col_heading level0 col8\" >Overall Passing Rate</th>    </tr></thead><tbody>\n",
       "                <tr>\n",
       "                        <th id=\"T_7c4f300a_3cee_11eb_9550_367ddaacacc8level0_row0\" class=\"row_heading level0 row0\" >Cabrera High School</th>\n",
       "                        <td id=\"T_7c4f300a_3cee_11eb_9550_367ddaacacc8row0_col0\" class=\"data row0 col0\" >Charter</td>\n",
       "                        <td id=\"T_7c4f300a_3cee_11eb_9550_367ddaacacc8row0_col1\" class=\"data row0 col1\" >1,858</td>\n",
       "                        <td id=\"T_7c4f300a_3cee_11eb_9550_367ddaacacc8row0_col2\" class=\"data row0 col2\" >$582.0</td>\n",
       "                        <td id=\"T_7c4f300a_3cee_11eb_9550_367ddaacacc8row0_col3\" class=\"data row0 col3\" >$1081356</td>\n",
       "                        <td id=\"T_7c4f300a_3cee_11eb_9550_367ddaacacc8row0_col4\" class=\"data row0 col4\" >83.061895</td>\n",
       "                        <td id=\"T_7c4f300a_3cee_11eb_9550_367ddaacacc8row0_col5\" class=\"data row0 col5\" >83.975780</td>\n",
       "                        <td id=\"T_7c4f300a_3cee_11eb_9550_367ddaacacc8row0_col6\" class=\"data row0 col6\" >94.1%</td>\n",
       "                        <td id=\"T_7c4f300a_3cee_11eb_9550_367ddaacacc8row0_col7\" class=\"data row0 col7\" >97.0%</td>\n",
       "                        <td id=\"T_7c4f300a_3cee_11eb_9550_367ddaacacc8row0_col8\" class=\"data row0 col8\" >91.3%</td>\n",
       "            </tr>\n",
       "            <tr>\n",
       "                        <th id=\"T_7c4f300a_3cee_11eb_9550_367ddaacacc8level0_row1\" class=\"row_heading level0 row1\" >Thomas High School</th>\n",
       "                        <td id=\"T_7c4f300a_3cee_11eb_9550_367ddaacacc8row1_col0\" class=\"data row1 col0\" >Charter</td>\n",
       "                        <td id=\"T_7c4f300a_3cee_11eb_9550_367ddaacacc8row1_col1\" class=\"data row1 col1\" >1,635</td>\n",
       "                        <td id=\"T_7c4f300a_3cee_11eb_9550_367ddaacacc8row1_col2\" class=\"data row1 col2\" >$638.0</td>\n",
       "                        <td id=\"T_7c4f300a_3cee_11eb_9550_367ddaacacc8row1_col3\" class=\"data row1 col3\" >$1043130</td>\n",
       "                        <td id=\"T_7c4f300a_3cee_11eb_9550_367ddaacacc8row1_col4\" class=\"data row1 col4\" >83.418349</td>\n",
       "                        <td id=\"T_7c4f300a_3cee_11eb_9550_367ddaacacc8row1_col5\" class=\"data row1 col5\" >83.848930</td>\n",
       "                        <td id=\"T_7c4f300a_3cee_11eb_9550_367ddaacacc8row1_col6\" class=\"data row1 col6\" >93.3%</td>\n",
       "                        <td id=\"T_7c4f300a_3cee_11eb_9550_367ddaacacc8row1_col7\" class=\"data row1 col7\" >97.3%</td>\n",
       "                        <td id=\"T_7c4f300a_3cee_11eb_9550_367ddaacacc8row1_col8\" class=\"data row1 col8\" >90.9%</td>\n",
       "            </tr>\n",
       "            <tr>\n",
       "                        <th id=\"T_7c4f300a_3cee_11eb_9550_367ddaacacc8level0_row2\" class=\"row_heading level0 row2\" >Griffin High School</th>\n",
       "                        <td id=\"T_7c4f300a_3cee_11eb_9550_367ddaacacc8row2_col0\" class=\"data row2 col0\" >Charter</td>\n",
       "                        <td id=\"T_7c4f300a_3cee_11eb_9550_367ddaacacc8row2_col1\" class=\"data row2 col1\" >1,468</td>\n",
       "                        <td id=\"T_7c4f300a_3cee_11eb_9550_367ddaacacc8row2_col2\" class=\"data row2 col2\" >$625.0</td>\n",
       "                        <td id=\"T_7c4f300a_3cee_11eb_9550_367ddaacacc8row2_col3\" class=\"data row2 col3\" >$917500</td>\n",
       "                        <td id=\"T_7c4f300a_3cee_11eb_9550_367ddaacacc8row2_col4\" class=\"data row2 col4\" >83.351499</td>\n",
       "                        <td id=\"T_7c4f300a_3cee_11eb_9550_367ddaacacc8row2_col5\" class=\"data row2 col5\" >83.816757</td>\n",
       "                        <td id=\"T_7c4f300a_3cee_11eb_9550_367ddaacacc8row2_col6\" class=\"data row2 col6\" >93.4%</td>\n",
       "                        <td id=\"T_7c4f300a_3cee_11eb_9550_367ddaacacc8row2_col7\" class=\"data row2 col7\" >97.1%</td>\n",
       "                        <td id=\"T_7c4f300a_3cee_11eb_9550_367ddaacacc8row2_col8\" class=\"data row2 col8\" >90.6%</td>\n",
       "            </tr>\n",
       "            <tr>\n",
       "                        <th id=\"T_7c4f300a_3cee_11eb_9550_367ddaacacc8level0_row3\" class=\"row_heading level0 row3\" >Wilson High School</th>\n",
       "                        <td id=\"T_7c4f300a_3cee_11eb_9550_367ddaacacc8row3_col0\" class=\"data row3 col0\" >Charter</td>\n",
       "                        <td id=\"T_7c4f300a_3cee_11eb_9550_367ddaacacc8row3_col1\" class=\"data row3 col1\" >2,283</td>\n",
       "                        <td id=\"T_7c4f300a_3cee_11eb_9550_367ddaacacc8row3_col2\" class=\"data row3 col2\" >$578.0</td>\n",
       "                        <td id=\"T_7c4f300a_3cee_11eb_9550_367ddaacacc8row3_col3\" class=\"data row3 col3\" >$1319574</td>\n",
       "                        <td id=\"T_7c4f300a_3cee_11eb_9550_367ddaacacc8row3_col4\" class=\"data row3 col4\" >83.274201</td>\n",
       "                        <td id=\"T_7c4f300a_3cee_11eb_9550_367ddaacacc8row3_col5\" class=\"data row3 col5\" >83.989488</td>\n",
       "                        <td id=\"T_7c4f300a_3cee_11eb_9550_367ddaacacc8row3_col6\" class=\"data row3 col6\" >93.9%</td>\n",
       "                        <td id=\"T_7c4f300a_3cee_11eb_9550_367ddaacacc8row3_col7\" class=\"data row3 col7\" >96.5%</td>\n",
       "                        <td id=\"T_7c4f300a_3cee_11eb_9550_367ddaacacc8row3_col8\" class=\"data row3 col8\" >90.6%</td>\n",
       "            </tr>\n",
       "            <tr>\n",
       "                        <th id=\"T_7c4f300a_3cee_11eb_9550_367ddaacacc8level0_row4\" class=\"row_heading level0 row4\" >Pena High School</th>\n",
       "                        <td id=\"T_7c4f300a_3cee_11eb_9550_367ddaacacc8row4_col0\" class=\"data row4 col0\" >Charter</td>\n",
       "                        <td id=\"T_7c4f300a_3cee_11eb_9550_367ddaacacc8row4_col1\" class=\"data row4 col1\" >962</td>\n",
       "                        <td id=\"T_7c4f300a_3cee_11eb_9550_367ddaacacc8row4_col2\" class=\"data row4 col2\" >$609.0</td>\n",
       "                        <td id=\"T_7c4f300a_3cee_11eb_9550_367ddaacacc8row4_col3\" class=\"data row4 col3\" >$585858</td>\n",
       "                        <td id=\"T_7c4f300a_3cee_11eb_9550_367ddaacacc8row4_col4\" class=\"data row4 col4\" >83.839917</td>\n",
       "                        <td id=\"T_7c4f300a_3cee_11eb_9550_367ddaacacc8row4_col5\" class=\"data row4 col5\" >84.044699</td>\n",
       "                        <td id=\"T_7c4f300a_3cee_11eb_9550_367ddaacacc8row4_col6\" class=\"data row4 col6\" >94.6%</td>\n",
       "                        <td id=\"T_7c4f300a_3cee_11eb_9550_367ddaacacc8row4_col7\" class=\"data row4 col7\" >95.9%</td>\n",
       "                        <td id=\"T_7c4f300a_3cee_11eb_9550_367ddaacacc8row4_col8\" class=\"data row4 col8\" >90.5%</td>\n",
       "            </tr>\n",
       "    </tbody></table>"
      ],
      "text/plain": [
       "<pandas.io.formats.style.Styler at 0x7fd487799b20>"
      ]
     },
     "execution_count": 28,
     "metadata": {},
     "output_type": "execute_result"
    }
   ],
   "source": [
    "# We must sort values by the overall passing rate and then only print top 5 \n",
    "top_five_performing_schools = school_summary.sort_values(\"Overall Passing Rate\", ascending = False)\n",
    "top_five_performing_schools.head().style.format({'Total Students': '{:,}',\n",
    "                           \"Total School Budget\": \"${:,}\", \n",
    "                           \"Per Student Budget\": \"${:.0f}\", \n",
    "                           \"% Passing Math\": \"{:.1%}\", \n",
    "                           \"% Passing Reading\": \"{:.1%}\", \n",
    "                           \"Overall Passing Rate\": \"{:.1%}\"})"
   ]
  },
  {
   "cell_type": "markdown",
   "metadata": {},
   "source": [
    "## Bottom Performing Schools (By % Overall Passing)"
   ]
  },
  {
   "cell_type": "markdown",
   "metadata": {},
   "source": [
    "* Sort and display the five worst-performing schools by % overall passing."
   ]
  },
  {
   "cell_type": "code",
   "execution_count": 29,
   "metadata": {},
   "outputs": [
    {
     "data": {
      "text/html": [
       "<style  type=\"text/css\" >\n",
       "</style><table id=\"T_7c50ed64_3cee_11eb_9550_367ddaacacc8\" ><thead>    <tr>        <th class=\"blank level0\" ></th>        <th class=\"col_heading level0 col0\" >School Type</th>        <th class=\"col_heading level0 col1\" >Total Students</th>        <th class=\"col_heading level0 col2\" >Total School Budget</th>        <th class=\"col_heading level0 col3\" >Per Student Budget</th>        <th class=\"col_heading level0 col4\" >Average Math Score</th>        <th class=\"col_heading level0 col5\" >Average Reading Score</th>        <th class=\"col_heading level0 col6\" >% Passing Math</th>        <th class=\"col_heading level0 col7\" >% Passing Reading</th>        <th class=\"col_heading level0 col8\" >Overall Passing Rate</th>    </tr></thead><tbody>\n",
       "                <tr>\n",
       "                        <th id=\"T_7c50ed64_3cee_11eb_9550_367ddaacacc8level0_row0\" class=\"row_heading level0 row0\" >Rodriguez High School</th>\n",
       "                        <td id=\"T_7c50ed64_3cee_11eb_9550_367ddaacacc8row0_col0\" class=\"data row0 col0\" >District</td>\n",
       "                        <td id=\"T_7c50ed64_3cee_11eb_9550_367ddaacacc8row0_col1\" class=\"data row0 col1\" >3,999</td>\n",
       "                        <td id=\"T_7c50ed64_3cee_11eb_9550_367ddaacacc8row0_col2\" class=\"data row0 col2\" >$637.0</td>\n",
       "                        <td id=\"T_7c50ed64_3cee_11eb_9550_367ddaacacc8row0_col3\" class=\"data row0 col3\" >$2547363</td>\n",
       "                        <td id=\"T_7c50ed64_3cee_11eb_9550_367ddaacacc8row0_col4\" class=\"data row0 col4\" >76.842711</td>\n",
       "                        <td id=\"T_7c50ed64_3cee_11eb_9550_367ddaacacc8row0_col5\" class=\"data row0 col5\" >80.744686</td>\n",
       "                        <td id=\"T_7c50ed64_3cee_11eb_9550_367ddaacacc8row0_col6\" class=\"data row0 col6\" >66.4%</td>\n",
       "                        <td id=\"T_7c50ed64_3cee_11eb_9550_367ddaacacc8row0_col7\" class=\"data row0 col7\" >80.2%</td>\n",
       "                        <td id=\"T_7c50ed64_3cee_11eb_9550_367ddaacacc8row0_col8\" class=\"data row0 col8\" >53.0%</td>\n",
       "            </tr>\n",
       "            <tr>\n",
       "                        <th id=\"T_7c50ed64_3cee_11eb_9550_367ddaacacc8level0_row1\" class=\"row_heading level0 row1\" >Figueroa High School</th>\n",
       "                        <td id=\"T_7c50ed64_3cee_11eb_9550_367ddaacacc8row1_col0\" class=\"data row1 col0\" >District</td>\n",
       "                        <td id=\"T_7c50ed64_3cee_11eb_9550_367ddaacacc8row1_col1\" class=\"data row1 col1\" >2,949</td>\n",
       "                        <td id=\"T_7c50ed64_3cee_11eb_9550_367ddaacacc8row1_col2\" class=\"data row1 col2\" >$639.0</td>\n",
       "                        <td id=\"T_7c50ed64_3cee_11eb_9550_367ddaacacc8row1_col3\" class=\"data row1 col3\" >$1884411</td>\n",
       "                        <td id=\"T_7c50ed64_3cee_11eb_9550_367ddaacacc8row1_col4\" class=\"data row1 col4\" >76.711767</td>\n",
       "                        <td id=\"T_7c50ed64_3cee_11eb_9550_367ddaacacc8row1_col5\" class=\"data row1 col5\" >81.158020</td>\n",
       "                        <td id=\"T_7c50ed64_3cee_11eb_9550_367ddaacacc8row1_col6\" class=\"data row1 col6\" >66.0%</td>\n",
       "                        <td id=\"T_7c50ed64_3cee_11eb_9550_367ddaacacc8row1_col7\" class=\"data row1 col7\" >80.7%</td>\n",
       "                        <td id=\"T_7c50ed64_3cee_11eb_9550_367ddaacacc8row1_col8\" class=\"data row1 col8\" >53.2%</td>\n",
       "            </tr>\n",
       "            <tr>\n",
       "                        <th id=\"T_7c50ed64_3cee_11eb_9550_367ddaacacc8level0_row2\" class=\"row_heading level0 row2\" >Huang High School</th>\n",
       "                        <td id=\"T_7c50ed64_3cee_11eb_9550_367ddaacacc8row2_col0\" class=\"data row2 col0\" >District</td>\n",
       "                        <td id=\"T_7c50ed64_3cee_11eb_9550_367ddaacacc8row2_col1\" class=\"data row2 col1\" >2,917</td>\n",
       "                        <td id=\"T_7c50ed64_3cee_11eb_9550_367ddaacacc8row2_col2\" class=\"data row2 col2\" >$655.0</td>\n",
       "                        <td id=\"T_7c50ed64_3cee_11eb_9550_367ddaacacc8row2_col3\" class=\"data row2 col3\" >$1910635</td>\n",
       "                        <td id=\"T_7c50ed64_3cee_11eb_9550_367ddaacacc8row2_col4\" class=\"data row2 col4\" >76.629414</td>\n",
       "                        <td id=\"T_7c50ed64_3cee_11eb_9550_367ddaacacc8row2_col5\" class=\"data row2 col5\" >81.182722</td>\n",
       "                        <td id=\"T_7c50ed64_3cee_11eb_9550_367ddaacacc8row2_col6\" class=\"data row2 col6\" >65.7%</td>\n",
       "                        <td id=\"T_7c50ed64_3cee_11eb_9550_367ddaacacc8row2_col7\" class=\"data row2 col7\" >81.3%</td>\n",
       "                        <td id=\"T_7c50ed64_3cee_11eb_9550_367ddaacacc8row2_col8\" class=\"data row2 col8\" >53.5%</td>\n",
       "            </tr>\n",
       "            <tr>\n",
       "                        <th id=\"T_7c50ed64_3cee_11eb_9550_367ddaacacc8level0_row3\" class=\"row_heading level0 row3\" >Hernandez High School</th>\n",
       "                        <td id=\"T_7c50ed64_3cee_11eb_9550_367ddaacacc8row3_col0\" class=\"data row3 col0\" >District</td>\n",
       "                        <td id=\"T_7c50ed64_3cee_11eb_9550_367ddaacacc8row3_col1\" class=\"data row3 col1\" >4,635</td>\n",
       "                        <td id=\"T_7c50ed64_3cee_11eb_9550_367ddaacacc8row3_col2\" class=\"data row3 col2\" >$652.0</td>\n",
       "                        <td id=\"T_7c50ed64_3cee_11eb_9550_367ddaacacc8row3_col3\" class=\"data row3 col3\" >$3022020</td>\n",
       "                        <td id=\"T_7c50ed64_3cee_11eb_9550_367ddaacacc8row3_col4\" class=\"data row3 col4\" >77.289752</td>\n",
       "                        <td id=\"T_7c50ed64_3cee_11eb_9550_367ddaacacc8row3_col5\" class=\"data row3 col5\" >80.934412</td>\n",
       "                        <td id=\"T_7c50ed64_3cee_11eb_9550_367ddaacacc8row3_col6\" class=\"data row3 col6\" >66.8%</td>\n",
       "                        <td id=\"T_7c50ed64_3cee_11eb_9550_367ddaacacc8row3_col7\" class=\"data row3 col7\" >80.9%</td>\n",
       "                        <td id=\"T_7c50ed64_3cee_11eb_9550_367ddaacacc8row3_col8\" class=\"data row3 col8\" >53.5%</td>\n",
       "            </tr>\n",
       "            <tr>\n",
       "                        <th id=\"T_7c50ed64_3cee_11eb_9550_367ddaacacc8level0_row4\" class=\"row_heading level0 row4\" >Johnson High School</th>\n",
       "                        <td id=\"T_7c50ed64_3cee_11eb_9550_367ddaacacc8row4_col0\" class=\"data row4 col0\" >District</td>\n",
       "                        <td id=\"T_7c50ed64_3cee_11eb_9550_367ddaacacc8row4_col1\" class=\"data row4 col1\" >4,761</td>\n",
       "                        <td id=\"T_7c50ed64_3cee_11eb_9550_367ddaacacc8row4_col2\" class=\"data row4 col2\" >$650.0</td>\n",
       "                        <td id=\"T_7c50ed64_3cee_11eb_9550_367ddaacacc8row4_col3\" class=\"data row4 col3\" >$3094650</td>\n",
       "                        <td id=\"T_7c50ed64_3cee_11eb_9550_367ddaacacc8row4_col4\" class=\"data row4 col4\" >77.072464</td>\n",
       "                        <td id=\"T_7c50ed64_3cee_11eb_9550_367ddaacacc8row4_col5\" class=\"data row4 col5\" >80.966394</td>\n",
       "                        <td id=\"T_7c50ed64_3cee_11eb_9550_367ddaacacc8row4_col6\" class=\"data row4 col6\" >66.1%</td>\n",
       "                        <td id=\"T_7c50ed64_3cee_11eb_9550_367ddaacacc8row4_col7\" class=\"data row4 col7\" >81.2%</td>\n",
       "                        <td id=\"T_7c50ed64_3cee_11eb_9550_367ddaacacc8row4_col8\" class=\"data row4 col8\" >53.5%</td>\n",
       "            </tr>\n",
       "    </tbody></table>"
      ],
      "text/plain": [
       "<pandas.io.formats.style.Styler at 0x7fd487799700>"
      ]
     },
     "execution_count": 29,
     "metadata": {},
     "output_type": "execute_result"
    }
   ],
   "source": [
    "# We must sort values by overall passing rate by taking the tail of top_five_performing.\n",
    "bottom_five_performing_schools = top_five_performing_schools.tail()\n",
    "bottom_five_performing_schools = bottom_five_performing_schools.sort_values('Overall Passing Rate')\n",
    "bottom_five_performing_schools.style.format({'Total Students': '{:,}', \n",
    "                       \"Total School Budget\": \"${:,}\", \n",
    "                       \"Per Student Budget\": \"${:.0f}\", \n",
    "                       \"% Passing Math\": \"{:.1%}\", \n",
    "                       \"% Passing Reading\": \"{:.1%}\", \n",
    "                       \"Overall Passing Rate\": \"{:.1%}\"})"
   ]
  },
  {
   "cell_type": "markdown",
   "metadata": {
    "collapsed": true
   },
   "source": [
    "## Math Scores by Grade"
   ]
  },
  {
   "cell_type": "markdown",
   "metadata": {},
   "source": [
    "* Create a table that lists the average Reading Score for students of each grade level (9th, 10th, 11th, 12th) at each school.\n",
    "\n",
    "  * Create a pandas series for each grade. Hint: use a conditional statement.\n",
    "  \n",
    "  * Group each series by school\n",
    "  \n",
    "  * Combine the series into a dataframe\n",
    "  \n",
    "  * Optional: give the displayed data cleaner formatting"
   ]
  },
  {
   "cell_type": "code",
   "execution_count": 30,
   "metadata": {},
   "outputs": [
    {
     "data": {
      "text/html": [
       "<style  type=\"text/css\" >\n",
       "</style><table id=\"T_7c581468_3cee_11eb_9550_367ddaacacc8\" ><thead>    <tr>        <th class=\"blank level0\" ></th>        <th class=\"col_heading level0 col0\" >9th</th>        <th class=\"col_heading level0 col1\" >10th</th>        <th class=\"col_heading level0 col2\" >11th</th>        <th class=\"col_heading level0 col3\" >12th</th>    </tr>    <tr>        <th class=\"index_name level0\" >School</th>        <th class=\"blank\" ></th>        <th class=\"blank\" ></th>        <th class=\"blank\" ></th>        <th class=\"blank\" ></th>    </tr></thead><tbody>\n",
       "                <tr>\n",
       "                        <th id=\"T_7c581468_3cee_11eb_9550_367ddaacacc8level0_row0\" class=\"row_heading level0 row0\" >Bailey High School</th>\n",
       "                        <td id=\"T_7c581468_3cee_11eb_9550_367ddaacacc8row0_col0\" class=\"data row0 col0\" >77.1</td>\n",
       "                        <td id=\"T_7c581468_3cee_11eb_9550_367ddaacacc8row0_col1\" class=\"data row0 col1\" >77.0</td>\n",
       "                        <td id=\"T_7c581468_3cee_11eb_9550_367ddaacacc8row0_col2\" class=\"data row0 col2\" >77.5</td>\n",
       "                        <td id=\"T_7c581468_3cee_11eb_9550_367ddaacacc8row0_col3\" class=\"data row0 col3\" >76.5</td>\n",
       "            </tr>\n",
       "            <tr>\n",
       "                        <th id=\"T_7c581468_3cee_11eb_9550_367ddaacacc8level0_row1\" class=\"row_heading level0 row1\" >Cabrera High School</th>\n",
       "                        <td id=\"T_7c581468_3cee_11eb_9550_367ddaacacc8row1_col0\" class=\"data row1 col0\" >83.1</td>\n",
       "                        <td id=\"T_7c581468_3cee_11eb_9550_367ddaacacc8row1_col1\" class=\"data row1 col1\" >83.2</td>\n",
       "                        <td id=\"T_7c581468_3cee_11eb_9550_367ddaacacc8row1_col2\" class=\"data row1 col2\" >82.8</td>\n",
       "                        <td id=\"T_7c581468_3cee_11eb_9550_367ddaacacc8row1_col3\" class=\"data row1 col3\" >83.3</td>\n",
       "            </tr>\n",
       "            <tr>\n",
       "                        <th id=\"T_7c581468_3cee_11eb_9550_367ddaacacc8level0_row2\" class=\"row_heading level0 row2\" >Figueroa High School</th>\n",
       "                        <td id=\"T_7c581468_3cee_11eb_9550_367ddaacacc8row2_col0\" class=\"data row2 col0\" >76.4</td>\n",
       "                        <td id=\"T_7c581468_3cee_11eb_9550_367ddaacacc8row2_col1\" class=\"data row2 col1\" >76.5</td>\n",
       "                        <td id=\"T_7c581468_3cee_11eb_9550_367ddaacacc8row2_col2\" class=\"data row2 col2\" >76.9</td>\n",
       "                        <td id=\"T_7c581468_3cee_11eb_9550_367ddaacacc8row2_col3\" class=\"data row2 col3\" >77.2</td>\n",
       "            </tr>\n",
       "            <tr>\n",
       "                        <th id=\"T_7c581468_3cee_11eb_9550_367ddaacacc8level0_row3\" class=\"row_heading level0 row3\" >Ford High School</th>\n",
       "                        <td id=\"T_7c581468_3cee_11eb_9550_367ddaacacc8row3_col0\" class=\"data row3 col0\" >77.4</td>\n",
       "                        <td id=\"T_7c581468_3cee_11eb_9550_367ddaacacc8row3_col1\" class=\"data row3 col1\" >77.7</td>\n",
       "                        <td id=\"T_7c581468_3cee_11eb_9550_367ddaacacc8row3_col2\" class=\"data row3 col2\" >76.9</td>\n",
       "                        <td id=\"T_7c581468_3cee_11eb_9550_367ddaacacc8row3_col3\" class=\"data row3 col3\" >76.2</td>\n",
       "            </tr>\n",
       "            <tr>\n",
       "                        <th id=\"T_7c581468_3cee_11eb_9550_367ddaacacc8level0_row4\" class=\"row_heading level0 row4\" >Griffin High School</th>\n",
       "                        <td id=\"T_7c581468_3cee_11eb_9550_367ddaacacc8row4_col0\" class=\"data row4 col0\" >82.0</td>\n",
       "                        <td id=\"T_7c581468_3cee_11eb_9550_367ddaacacc8row4_col1\" class=\"data row4 col1\" >84.2</td>\n",
       "                        <td id=\"T_7c581468_3cee_11eb_9550_367ddaacacc8row4_col2\" class=\"data row4 col2\" >83.8</td>\n",
       "                        <td id=\"T_7c581468_3cee_11eb_9550_367ddaacacc8row4_col3\" class=\"data row4 col3\" >83.4</td>\n",
       "            </tr>\n",
       "            <tr>\n",
       "                        <th id=\"T_7c581468_3cee_11eb_9550_367ddaacacc8level0_row5\" class=\"row_heading level0 row5\" >Hernandez High School</th>\n",
       "                        <td id=\"T_7c581468_3cee_11eb_9550_367ddaacacc8row5_col0\" class=\"data row5 col0\" >77.4</td>\n",
       "                        <td id=\"T_7c581468_3cee_11eb_9550_367ddaacacc8row5_col1\" class=\"data row5 col1\" >77.3</td>\n",
       "                        <td id=\"T_7c581468_3cee_11eb_9550_367ddaacacc8row5_col2\" class=\"data row5 col2\" >77.1</td>\n",
       "                        <td id=\"T_7c581468_3cee_11eb_9550_367ddaacacc8row5_col3\" class=\"data row5 col3\" >77.2</td>\n",
       "            </tr>\n",
       "            <tr>\n",
       "                        <th id=\"T_7c581468_3cee_11eb_9550_367ddaacacc8level0_row6\" class=\"row_heading level0 row6\" >Holden High School</th>\n",
       "                        <td id=\"T_7c581468_3cee_11eb_9550_367ddaacacc8row6_col0\" class=\"data row6 col0\" >83.8</td>\n",
       "                        <td id=\"T_7c581468_3cee_11eb_9550_367ddaacacc8row6_col1\" class=\"data row6 col1\" >83.4</td>\n",
       "                        <td id=\"T_7c581468_3cee_11eb_9550_367ddaacacc8row6_col2\" class=\"data row6 col2\" >85.0</td>\n",
       "                        <td id=\"T_7c581468_3cee_11eb_9550_367ddaacacc8row6_col3\" class=\"data row6 col3\" >82.9</td>\n",
       "            </tr>\n",
       "            <tr>\n",
       "                        <th id=\"T_7c581468_3cee_11eb_9550_367ddaacacc8level0_row7\" class=\"row_heading level0 row7\" >Huang High School</th>\n",
       "                        <td id=\"T_7c581468_3cee_11eb_9550_367ddaacacc8row7_col0\" class=\"data row7 col0\" >77.0</td>\n",
       "                        <td id=\"T_7c581468_3cee_11eb_9550_367ddaacacc8row7_col1\" class=\"data row7 col1\" >75.9</td>\n",
       "                        <td id=\"T_7c581468_3cee_11eb_9550_367ddaacacc8row7_col2\" class=\"data row7 col2\" >76.4</td>\n",
       "                        <td id=\"T_7c581468_3cee_11eb_9550_367ddaacacc8row7_col3\" class=\"data row7 col3\" >77.2</td>\n",
       "            </tr>\n",
       "            <tr>\n",
       "                        <th id=\"T_7c581468_3cee_11eb_9550_367ddaacacc8level0_row8\" class=\"row_heading level0 row8\" >Johnson High School</th>\n",
       "                        <td id=\"T_7c581468_3cee_11eb_9550_367ddaacacc8row8_col0\" class=\"data row8 col0\" >77.2</td>\n",
       "                        <td id=\"T_7c581468_3cee_11eb_9550_367ddaacacc8row8_col1\" class=\"data row8 col1\" >76.7</td>\n",
       "                        <td id=\"T_7c581468_3cee_11eb_9550_367ddaacacc8row8_col2\" class=\"data row8 col2\" >77.5</td>\n",
       "                        <td id=\"T_7c581468_3cee_11eb_9550_367ddaacacc8row8_col3\" class=\"data row8 col3\" >76.9</td>\n",
       "            </tr>\n",
       "            <tr>\n",
       "                        <th id=\"T_7c581468_3cee_11eb_9550_367ddaacacc8level0_row9\" class=\"row_heading level0 row9\" >Pena High School</th>\n",
       "                        <td id=\"T_7c581468_3cee_11eb_9550_367ddaacacc8row9_col0\" class=\"data row9 col0\" >83.6</td>\n",
       "                        <td id=\"T_7c581468_3cee_11eb_9550_367ddaacacc8row9_col1\" class=\"data row9 col1\" >83.4</td>\n",
       "                        <td id=\"T_7c581468_3cee_11eb_9550_367ddaacacc8row9_col2\" class=\"data row9 col2\" >84.3</td>\n",
       "                        <td id=\"T_7c581468_3cee_11eb_9550_367ddaacacc8row9_col3\" class=\"data row9 col3\" >84.1</td>\n",
       "            </tr>\n",
       "            <tr>\n",
       "                        <th id=\"T_7c581468_3cee_11eb_9550_367ddaacacc8level0_row10\" class=\"row_heading level0 row10\" >Rodriguez High School</th>\n",
       "                        <td id=\"T_7c581468_3cee_11eb_9550_367ddaacacc8row10_col0\" class=\"data row10 col0\" >76.9</td>\n",
       "                        <td id=\"T_7c581468_3cee_11eb_9550_367ddaacacc8row10_col1\" class=\"data row10 col1\" >76.6</td>\n",
       "                        <td id=\"T_7c581468_3cee_11eb_9550_367ddaacacc8row10_col2\" class=\"data row10 col2\" >76.4</td>\n",
       "                        <td id=\"T_7c581468_3cee_11eb_9550_367ddaacacc8row10_col3\" class=\"data row10 col3\" >77.7</td>\n",
       "            </tr>\n",
       "            <tr>\n",
       "                        <th id=\"T_7c581468_3cee_11eb_9550_367ddaacacc8level0_row11\" class=\"row_heading level0 row11\" >Shelton High School</th>\n",
       "                        <td id=\"T_7c581468_3cee_11eb_9550_367ddaacacc8row11_col0\" class=\"data row11 col0\" >83.4</td>\n",
       "                        <td id=\"T_7c581468_3cee_11eb_9550_367ddaacacc8row11_col1\" class=\"data row11 col1\" >82.9</td>\n",
       "                        <td id=\"T_7c581468_3cee_11eb_9550_367ddaacacc8row11_col2\" class=\"data row11 col2\" >83.4</td>\n",
       "                        <td id=\"T_7c581468_3cee_11eb_9550_367ddaacacc8row11_col3\" class=\"data row11 col3\" >83.8</td>\n",
       "            </tr>\n",
       "            <tr>\n",
       "                        <th id=\"T_7c581468_3cee_11eb_9550_367ddaacacc8level0_row12\" class=\"row_heading level0 row12\" >Thomas High School</th>\n",
       "                        <td id=\"T_7c581468_3cee_11eb_9550_367ddaacacc8row12_col0\" class=\"data row12 col0\" >83.6</td>\n",
       "                        <td id=\"T_7c581468_3cee_11eb_9550_367ddaacacc8row12_col1\" class=\"data row12 col1\" >83.1</td>\n",
       "                        <td id=\"T_7c581468_3cee_11eb_9550_367ddaacacc8row12_col2\" class=\"data row12 col2\" >83.5</td>\n",
       "                        <td id=\"T_7c581468_3cee_11eb_9550_367ddaacacc8row12_col3\" class=\"data row12 col3\" >83.5</td>\n",
       "            </tr>\n",
       "            <tr>\n",
       "                        <th id=\"T_7c581468_3cee_11eb_9550_367ddaacacc8level0_row13\" class=\"row_heading level0 row13\" >Wilson High School</th>\n",
       "                        <td id=\"T_7c581468_3cee_11eb_9550_367ddaacacc8row13_col0\" class=\"data row13 col0\" >83.1</td>\n",
       "                        <td id=\"T_7c581468_3cee_11eb_9550_367ddaacacc8row13_col1\" class=\"data row13 col1\" >83.7</td>\n",
       "                        <td id=\"T_7c581468_3cee_11eb_9550_367ddaacacc8row13_col2\" class=\"data row13 col2\" >83.2</td>\n",
       "                        <td id=\"T_7c581468_3cee_11eb_9550_367ddaacacc8row13_col3\" class=\"data row13 col3\" >83.0</td>\n",
       "            </tr>\n",
       "            <tr>\n",
       "                        <th id=\"T_7c581468_3cee_11eb_9550_367ddaacacc8level0_row14\" class=\"row_heading level0 row14\" >Wright High School</th>\n",
       "                        <td id=\"T_7c581468_3cee_11eb_9550_367ddaacacc8row14_col0\" class=\"data row14 col0\" >83.3</td>\n",
       "                        <td id=\"T_7c581468_3cee_11eb_9550_367ddaacacc8row14_col1\" class=\"data row14 col1\" >84.0</td>\n",
       "                        <td id=\"T_7c581468_3cee_11eb_9550_367ddaacacc8row14_col2\" class=\"data row14 col2\" >83.8</td>\n",
       "                        <td id=\"T_7c581468_3cee_11eb_9550_367ddaacacc8row14_col3\" class=\"data row14 col3\" >83.6</td>\n",
       "            </tr>\n",
       "    </tbody></table>"
      ],
      "text/plain": [
       "<pandas.io.formats.style.Styler at 0x7fd487c52bb0>"
      ]
     },
     "execution_count": 30,
     "metadata": {},
     "output_type": "execute_result"
    }
   ],
   "source": [
    "# Using the student data cvs, we will creates grade level average math scores for each school.\n",
    "ninth_math = student_data.loc[student_data['grade'] == '9th'].groupby('school_name')[\"math_score\"].mean()\n",
    "tenth_math = student_data.loc[student_data['grade'] == '10th'].groupby('school_name')[\"math_score\"].mean()\n",
    "eleventh_math = student_data.loc[student_data['grade'] == '11th'].groupby('school_name')[\"math_score\"].mean()\n",
    "twelfth_math = student_data.loc[student_data['grade'] == '12th'].groupby('school_name')[\"math_score\"].mean()\n",
    "\n",
    "math_scores = pd.DataFrame({\n",
    "        \"9th\": ninth_math,\n",
    "        \"10th\": tenth_math,\n",
    "        \"11th\": eleventh_math,\n",
    "        \"12th\": twelfth_math\n",
    "})\n",
    "math_scores = math_scores[['9th', '10th', '11th', '12th']]\n",
    "math_scores.index.name = \"School\"\n",
    "\n",
    "# Now we can format.\n",
    "math_scores.style.format({'9th': '{:.1f}', \n",
    "                          \"10th\": '{:.1f}', \n",
    "                          \"11th\": \"{:.1f}\", \n",
    "                          \"12th\": \"{:.1f}\"})"
   ]
  },
  {
   "cell_type": "markdown",
   "metadata": {},
   "source": [
    "## Reading Score by Grade "
   ]
  },
  {
   "cell_type": "markdown",
   "metadata": {},
   "source": [
    "* Perform the same operations as above for reading scores"
   ]
  },
  {
   "cell_type": "code",
   "execution_count": 31,
   "metadata": {},
   "outputs": [
    {
     "data": {
      "text/html": [
       "<style  type=\"text/css\" >\n",
       "</style><table id=\"T_7c5fe45e_3cee_11eb_9550_367ddaacacc8\" ><thead>    <tr>        <th class=\"blank level0\" ></th>        <th class=\"col_heading level0 col0\" >9th</th>        <th class=\"col_heading level0 col1\" >10th</th>        <th class=\"col_heading level0 col2\" >11th</th>        <th class=\"col_heading level0 col3\" >12th</th>    </tr>    <tr>        <th class=\"index_name level0\" >School</th>        <th class=\"blank\" ></th>        <th class=\"blank\" ></th>        <th class=\"blank\" ></th>        <th class=\"blank\" ></th>    </tr></thead><tbody>\n",
       "                <tr>\n",
       "                        <th id=\"T_7c5fe45e_3cee_11eb_9550_367ddaacacc8level0_row0\" class=\"row_heading level0 row0\" >Bailey High School</th>\n",
       "                        <td id=\"T_7c5fe45e_3cee_11eb_9550_367ddaacacc8row0_col0\" class=\"data row0 col0\" >81.3</td>\n",
       "                        <td id=\"T_7c5fe45e_3cee_11eb_9550_367ddaacacc8row0_col1\" class=\"data row0 col1\" >80.9</td>\n",
       "                        <td id=\"T_7c5fe45e_3cee_11eb_9550_367ddaacacc8row0_col2\" class=\"data row0 col2\" >80.9</td>\n",
       "                        <td id=\"T_7c5fe45e_3cee_11eb_9550_367ddaacacc8row0_col3\" class=\"data row0 col3\" >80.9</td>\n",
       "            </tr>\n",
       "            <tr>\n",
       "                        <th id=\"T_7c5fe45e_3cee_11eb_9550_367ddaacacc8level0_row1\" class=\"row_heading level0 row1\" >Cabrera High School</th>\n",
       "                        <td id=\"T_7c5fe45e_3cee_11eb_9550_367ddaacacc8row1_col0\" class=\"data row1 col0\" >83.7</td>\n",
       "                        <td id=\"T_7c5fe45e_3cee_11eb_9550_367ddaacacc8row1_col1\" class=\"data row1 col1\" >84.3</td>\n",
       "                        <td id=\"T_7c5fe45e_3cee_11eb_9550_367ddaacacc8row1_col2\" class=\"data row1 col2\" >83.8</td>\n",
       "                        <td id=\"T_7c5fe45e_3cee_11eb_9550_367ddaacacc8row1_col3\" class=\"data row1 col3\" >84.3</td>\n",
       "            </tr>\n",
       "            <tr>\n",
       "                        <th id=\"T_7c5fe45e_3cee_11eb_9550_367ddaacacc8level0_row2\" class=\"row_heading level0 row2\" >Figueroa High School</th>\n",
       "                        <td id=\"T_7c5fe45e_3cee_11eb_9550_367ddaacacc8row2_col0\" class=\"data row2 col0\" >81.2</td>\n",
       "                        <td id=\"T_7c5fe45e_3cee_11eb_9550_367ddaacacc8row2_col1\" class=\"data row2 col1\" >81.4</td>\n",
       "                        <td id=\"T_7c5fe45e_3cee_11eb_9550_367ddaacacc8row2_col2\" class=\"data row2 col2\" >80.6</td>\n",
       "                        <td id=\"T_7c5fe45e_3cee_11eb_9550_367ddaacacc8row2_col3\" class=\"data row2 col3\" >81.4</td>\n",
       "            </tr>\n",
       "            <tr>\n",
       "                        <th id=\"T_7c5fe45e_3cee_11eb_9550_367ddaacacc8level0_row3\" class=\"row_heading level0 row3\" >Ford High School</th>\n",
       "                        <td id=\"T_7c5fe45e_3cee_11eb_9550_367ddaacacc8row3_col0\" class=\"data row3 col0\" >80.6</td>\n",
       "                        <td id=\"T_7c5fe45e_3cee_11eb_9550_367ddaacacc8row3_col1\" class=\"data row3 col1\" >81.3</td>\n",
       "                        <td id=\"T_7c5fe45e_3cee_11eb_9550_367ddaacacc8row3_col2\" class=\"data row3 col2\" >80.4</td>\n",
       "                        <td id=\"T_7c5fe45e_3cee_11eb_9550_367ddaacacc8row3_col3\" class=\"data row3 col3\" >80.7</td>\n",
       "            </tr>\n",
       "            <tr>\n",
       "                        <th id=\"T_7c5fe45e_3cee_11eb_9550_367ddaacacc8level0_row4\" class=\"row_heading level0 row4\" >Griffin High School</th>\n",
       "                        <td id=\"T_7c5fe45e_3cee_11eb_9550_367ddaacacc8row4_col0\" class=\"data row4 col0\" >83.4</td>\n",
       "                        <td id=\"T_7c5fe45e_3cee_11eb_9550_367ddaacacc8row4_col1\" class=\"data row4 col1\" >83.7</td>\n",
       "                        <td id=\"T_7c5fe45e_3cee_11eb_9550_367ddaacacc8row4_col2\" class=\"data row4 col2\" >84.3</td>\n",
       "                        <td id=\"T_7c5fe45e_3cee_11eb_9550_367ddaacacc8row4_col3\" class=\"data row4 col3\" >84.0</td>\n",
       "            </tr>\n",
       "            <tr>\n",
       "                        <th id=\"T_7c5fe45e_3cee_11eb_9550_367ddaacacc8level0_row5\" class=\"row_heading level0 row5\" >Hernandez High School</th>\n",
       "                        <td id=\"T_7c5fe45e_3cee_11eb_9550_367ddaacacc8row5_col0\" class=\"data row5 col0\" >80.9</td>\n",
       "                        <td id=\"T_7c5fe45e_3cee_11eb_9550_367ddaacacc8row5_col1\" class=\"data row5 col1\" >80.7</td>\n",
       "                        <td id=\"T_7c5fe45e_3cee_11eb_9550_367ddaacacc8row5_col2\" class=\"data row5 col2\" >81.4</td>\n",
       "                        <td id=\"T_7c5fe45e_3cee_11eb_9550_367ddaacacc8row5_col3\" class=\"data row5 col3\" >80.9</td>\n",
       "            </tr>\n",
       "            <tr>\n",
       "                        <th id=\"T_7c5fe45e_3cee_11eb_9550_367ddaacacc8level0_row6\" class=\"row_heading level0 row6\" >Holden High School</th>\n",
       "                        <td id=\"T_7c5fe45e_3cee_11eb_9550_367ddaacacc8row6_col0\" class=\"data row6 col0\" >83.7</td>\n",
       "                        <td id=\"T_7c5fe45e_3cee_11eb_9550_367ddaacacc8row6_col1\" class=\"data row6 col1\" >83.3</td>\n",
       "                        <td id=\"T_7c5fe45e_3cee_11eb_9550_367ddaacacc8row6_col2\" class=\"data row6 col2\" >83.8</td>\n",
       "                        <td id=\"T_7c5fe45e_3cee_11eb_9550_367ddaacacc8row6_col3\" class=\"data row6 col3\" >84.7</td>\n",
       "            </tr>\n",
       "            <tr>\n",
       "                        <th id=\"T_7c5fe45e_3cee_11eb_9550_367ddaacacc8level0_row7\" class=\"row_heading level0 row7\" >Huang High School</th>\n",
       "                        <td id=\"T_7c5fe45e_3cee_11eb_9550_367ddaacacc8row7_col0\" class=\"data row7 col0\" >81.3</td>\n",
       "                        <td id=\"T_7c5fe45e_3cee_11eb_9550_367ddaacacc8row7_col1\" class=\"data row7 col1\" >81.5</td>\n",
       "                        <td id=\"T_7c5fe45e_3cee_11eb_9550_367ddaacacc8row7_col2\" class=\"data row7 col2\" >81.4</td>\n",
       "                        <td id=\"T_7c5fe45e_3cee_11eb_9550_367ddaacacc8row7_col3\" class=\"data row7 col3\" >80.3</td>\n",
       "            </tr>\n",
       "            <tr>\n",
       "                        <th id=\"T_7c5fe45e_3cee_11eb_9550_367ddaacacc8level0_row8\" class=\"row_heading level0 row8\" >Johnson High School</th>\n",
       "                        <td id=\"T_7c5fe45e_3cee_11eb_9550_367ddaacacc8row8_col0\" class=\"data row8 col0\" >81.3</td>\n",
       "                        <td id=\"T_7c5fe45e_3cee_11eb_9550_367ddaacacc8row8_col1\" class=\"data row8 col1\" >80.8</td>\n",
       "                        <td id=\"T_7c5fe45e_3cee_11eb_9550_367ddaacacc8row8_col2\" class=\"data row8 col2\" >80.6</td>\n",
       "                        <td id=\"T_7c5fe45e_3cee_11eb_9550_367ddaacacc8row8_col3\" class=\"data row8 col3\" >81.2</td>\n",
       "            </tr>\n",
       "            <tr>\n",
       "                        <th id=\"T_7c5fe45e_3cee_11eb_9550_367ddaacacc8level0_row9\" class=\"row_heading level0 row9\" >Pena High School</th>\n",
       "                        <td id=\"T_7c5fe45e_3cee_11eb_9550_367ddaacacc8row9_col0\" class=\"data row9 col0\" >83.8</td>\n",
       "                        <td id=\"T_7c5fe45e_3cee_11eb_9550_367ddaacacc8row9_col1\" class=\"data row9 col1\" >83.6</td>\n",
       "                        <td id=\"T_7c5fe45e_3cee_11eb_9550_367ddaacacc8row9_col2\" class=\"data row9 col2\" >84.3</td>\n",
       "                        <td id=\"T_7c5fe45e_3cee_11eb_9550_367ddaacacc8row9_col3\" class=\"data row9 col3\" >84.6</td>\n",
       "            </tr>\n",
       "            <tr>\n",
       "                        <th id=\"T_7c5fe45e_3cee_11eb_9550_367ddaacacc8level0_row10\" class=\"row_heading level0 row10\" >Rodriguez High School</th>\n",
       "                        <td id=\"T_7c5fe45e_3cee_11eb_9550_367ddaacacc8row10_col0\" class=\"data row10 col0\" >81.0</td>\n",
       "                        <td id=\"T_7c5fe45e_3cee_11eb_9550_367ddaacacc8row10_col1\" class=\"data row10 col1\" >80.6</td>\n",
       "                        <td id=\"T_7c5fe45e_3cee_11eb_9550_367ddaacacc8row10_col2\" class=\"data row10 col2\" >80.9</td>\n",
       "                        <td id=\"T_7c5fe45e_3cee_11eb_9550_367ddaacacc8row10_col3\" class=\"data row10 col3\" >80.4</td>\n",
       "            </tr>\n",
       "            <tr>\n",
       "                        <th id=\"T_7c5fe45e_3cee_11eb_9550_367ddaacacc8level0_row11\" class=\"row_heading level0 row11\" >Shelton High School</th>\n",
       "                        <td id=\"T_7c5fe45e_3cee_11eb_9550_367ddaacacc8row11_col0\" class=\"data row11 col0\" >84.1</td>\n",
       "                        <td id=\"T_7c5fe45e_3cee_11eb_9550_367ddaacacc8row11_col1\" class=\"data row11 col1\" >83.4</td>\n",
       "                        <td id=\"T_7c5fe45e_3cee_11eb_9550_367ddaacacc8row11_col2\" class=\"data row11 col2\" >84.4</td>\n",
       "                        <td id=\"T_7c5fe45e_3cee_11eb_9550_367ddaacacc8row11_col3\" class=\"data row11 col3\" >82.8</td>\n",
       "            </tr>\n",
       "            <tr>\n",
       "                        <th id=\"T_7c5fe45e_3cee_11eb_9550_367ddaacacc8level0_row12\" class=\"row_heading level0 row12\" >Thomas High School</th>\n",
       "                        <td id=\"T_7c5fe45e_3cee_11eb_9550_367ddaacacc8row12_col0\" class=\"data row12 col0\" >83.7</td>\n",
       "                        <td id=\"T_7c5fe45e_3cee_11eb_9550_367ddaacacc8row12_col1\" class=\"data row12 col1\" >84.3</td>\n",
       "                        <td id=\"T_7c5fe45e_3cee_11eb_9550_367ddaacacc8row12_col2\" class=\"data row12 col2\" >83.6</td>\n",
       "                        <td id=\"T_7c5fe45e_3cee_11eb_9550_367ddaacacc8row12_col3\" class=\"data row12 col3\" >83.8</td>\n",
       "            </tr>\n",
       "            <tr>\n",
       "                        <th id=\"T_7c5fe45e_3cee_11eb_9550_367ddaacacc8level0_row13\" class=\"row_heading level0 row13\" >Wilson High School</th>\n",
       "                        <td id=\"T_7c5fe45e_3cee_11eb_9550_367ddaacacc8row13_col0\" class=\"data row13 col0\" >83.9</td>\n",
       "                        <td id=\"T_7c5fe45e_3cee_11eb_9550_367ddaacacc8row13_col1\" class=\"data row13 col1\" >84.0</td>\n",
       "                        <td id=\"T_7c5fe45e_3cee_11eb_9550_367ddaacacc8row13_col2\" class=\"data row13 col2\" >83.8</td>\n",
       "                        <td id=\"T_7c5fe45e_3cee_11eb_9550_367ddaacacc8row13_col3\" class=\"data row13 col3\" >84.3</td>\n",
       "            </tr>\n",
       "            <tr>\n",
       "                        <th id=\"T_7c5fe45e_3cee_11eb_9550_367ddaacacc8level0_row14\" class=\"row_heading level0 row14\" >Wright High School</th>\n",
       "                        <td id=\"T_7c5fe45e_3cee_11eb_9550_367ddaacacc8row14_col0\" class=\"data row14 col0\" >83.8</td>\n",
       "                        <td id=\"T_7c5fe45e_3cee_11eb_9550_367ddaacacc8row14_col1\" class=\"data row14 col1\" >83.8</td>\n",
       "                        <td id=\"T_7c5fe45e_3cee_11eb_9550_367ddaacacc8row14_col2\" class=\"data row14 col2\" >84.2</td>\n",
       "                        <td id=\"T_7c5fe45e_3cee_11eb_9550_367ddaacacc8row14_col3\" class=\"data row14 col3\" >84.1</td>\n",
       "            </tr>\n",
       "    </tbody></table>"
      ],
      "text/plain": [
       "<pandas.io.formats.style.Styler at 0x7fd487c577f0>"
      ]
     },
     "execution_count": 31,
     "metadata": {},
     "output_type": "execute_result"
    }
   ],
   "source": [
    "# Using the student data cvs, we will creates grade level average reading scores for each school.\n",
    "ninth_reading = student_data.loc[student_data['grade'] == '9th'].groupby('school_name')[\"reading_score\"].mean()\n",
    "tenth_reading = student_data.loc[student_data['grade'] == '10th'].groupby('school_name')[\"reading_score\"].mean()\n",
    "eleventh_reading = student_data.loc[student_data['grade'] == '11th'].groupby('school_name')[\"reading_score\"].mean()\n",
    "twelfth_reading = student_data.loc[student_data['grade'] == '12th'].groupby('school_name')[\"reading_score\"].mean()\n",
    "\n",
    "\n",
    "reading_scores = pd.DataFrame({\n",
    "        \"9th\": ninth_reading,\n",
    "        \"10th\": tenth_reading,\n",
    "        \"11th\": eleventh_reading,\n",
    "        \"12th\": twelfth_reading\n",
    "})\n",
    "reading_scores = reading_scores[['9th', '10th', '11th', '12th']]\n",
    "reading_scores.index.name = \"School\"\n",
    "\n",
    "# Now we can format.\n",
    "reading_scores.style.format({'9th': '{:.1f}', \n",
    "                             \"10th\": '{:.1f}', \n",
    "                             \"11th\": \"{:.1f}\", \n",
    "                             \"12th\": \"{:.1f}\"})"
   ]
  },
  {
   "cell_type": "markdown",
   "metadata": {},
   "source": [
    "## Scores by School Spending"
   ]
  },
  {
   "cell_type": "markdown",
   "metadata": {},
   "source": [
    "* Create a table that breaks down school performances based on average Spending Ranges (Per Student). Use 4 reasonable bins to group school spending. Include in the table each of the following:\n",
    "  * Average Math Score\n",
    "  * Average Reading Score\n",
    "  * % Passing Math\n",
    "  * % Passing Reading\n",
    "  * Overall Passing Rate (Average of the above two)"
   ]
  },
  {
   "cell_type": "code",
   "execution_count": 32,
   "metadata": {},
   "outputs": [
    {
     "data": {
      "text/html": [
       "<style  type=\"text/css\" >\n",
       "</style><table id=\"T_7c6c6c10_3cee_11eb_9550_367ddaacacc8\" ><thead>    <tr>        <th class=\"blank level0\" ></th>        <th class=\"col_heading level0 col0\" >Average Math Score</th>        <th class=\"col_heading level0 col1\" >Average Reading Score</th>        <th class=\"col_heading level0 col2\" >% Passing Math</th>        <th class=\"col_heading level0 col3\" >% Passing Reading</th>        <th class=\"col_heading level0 col4\" >Overall Passing Rate</th>    </tr>    <tr>        <th class=\"index_name level0\" >Per Student Budget</th>        <th class=\"blank\" ></th>        <th class=\"blank\" ></th>        <th class=\"blank\" ></th>        <th class=\"blank\" ></th>        <th class=\"blank\" ></th>    </tr></thead><tbody>\n",
       "                <tr>\n",
       "                        <th id=\"T_7c6c6c10_3cee_11eb_9550_367ddaacacc8level0_row0\" class=\"row_heading level0 row0\" >< $585</th>\n",
       "                        <td id=\"T_7c6c6c10_3cee_11eb_9550_367ddaacacc8row0_col0\" class=\"data row0 col0\" >83.4</td>\n",
       "                        <td id=\"T_7c6c6c10_3cee_11eb_9550_367ddaacacc8row0_col1\" class=\"data row0 col1\" >84.0</td>\n",
       "                        <td id=\"T_7c6c6c10_3cee_11eb_9550_367ddaacacc8row0_col2\" class=\"data row0 col2\" >93.7%</td>\n",
       "                        <td id=\"T_7c6c6c10_3cee_11eb_9550_367ddaacacc8row0_col3\" class=\"data row0 col3\" >96.7%</td>\n",
       "                        <td id=\"T_7c6c6c10_3cee_11eb_9550_367ddaacacc8row0_col4\" class=\"data row0 col4\" >90.6%</td>\n",
       "            </tr>\n",
       "            <tr>\n",
       "                        <th id=\"T_7c6c6c10_3cee_11eb_9550_367ddaacacc8level0_row1\" class=\"row_heading level0 row1\" >$585 - 630</th>\n",
       "                        <td id=\"T_7c6c6c10_3cee_11eb_9550_367ddaacacc8row1_col0\" class=\"data row1 col0\" >80.0</td>\n",
       "                        <td id=\"T_7c6c6c10_3cee_11eb_9550_367ddaacacc8row1_col1\" class=\"data row1 col1\" >82.3</td>\n",
       "                        <td id=\"T_7c6c6c10_3cee_11eb_9550_367ddaacacc8row1_col2\" class=\"data row1 col2\" >79.1%</td>\n",
       "                        <td id=\"T_7c6c6c10_3cee_11eb_9550_367ddaacacc8row1_col3\" class=\"data row1 col3\" >88.5%</td>\n",
       "                        <td id=\"T_7c6c6c10_3cee_11eb_9550_367ddaacacc8row1_col4\" class=\"data row1 col4\" >70.9%</td>\n",
       "            </tr>\n",
       "            <tr>\n",
       "                        <th id=\"T_7c6c6c10_3cee_11eb_9550_367ddaacacc8level0_row2\" class=\"row_heading level0 row2\" >$630 - 645</th>\n",
       "                        <td id=\"T_7c6c6c10_3cee_11eb_9550_367ddaacacc8row2_col0\" class=\"data row2 col0\" >77.8</td>\n",
       "                        <td id=\"T_7c6c6c10_3cee_11eb_9550_367ddaacacc8row2_col1\" class=\"data row2 col1\" >81.3</td>\n",
       "                        <td id=\"T_7c6c6c10_3cee_11eb_9550_367ddaacacc8row2_col2\" class=\"data row2 col2\" >70.6%</td>\n",
       "                        <td id=\"T_7c6c6c10_3cee_11eb_9550_367ddaacacc8row2_col3\" class=\"data row2 col3\" >82.6%</td>\n",
       "                        <td id=\"T_7c6c6c10_3cee_11eb_9550_367ddaacacc8row2_col4\" class=\"data row2 col4\" >58.8%</td>\n",
       "            </tr>\n",
       "            <tr>\n",
       "                        <th id=\"T_7c6c6c10_3cee_11eb_9550_367ddaacacc8level0_row3\" class=\"row_heading level0 row3\" >$645 - 680</th>\n",
       "                        <td id=\"T_7c6c6c10_3cee_11eb_9550_367ddaacacc8row3_col0\" class=\"data row3 col0\" >77.0</td>\n",
       "                        <td id=\"T_7c6c6c10_3cee_11eb_9550_367ddaacacc8row3_col1\" class=\"data row3 col1\" >81.0</td>\n",
       "                        <td id=\"T_7c6c6c10_3cee_11eb_9550_367ddaacacc8row3_col2\" class=\"data row3 col2\" >66.2%</td>\n",
       "                        <td id=\"T_7c6c6c10_3cee_11eb_9550_367ddaacacc8row3_col3\" class=\"data row3 col3\" >81.1%</td>\n",
       "                        <td id=\"T_7c6c6c10_3cee_11eb_9550_367ddaacacc8row3_col4\" class=\"data row3 col4\" >53.5%</td>\n",
       "            </tr>\n",
       "    </tbody></table>"
      ],
      "text/plain": [
       "<pandas.io.formats.style.Styler at 0x7fd48540fac0>"
      ]
     },
     "execution_count": 32,
     "metadata": {},
     "output_type": "execute_result"
    }
   ],
   "source": [
    "# Create a new column containing the 4 spending bins.\n",
    "# Use that created column as your groupby\n",
    "\n",
    "bins = [0, 584.999, 629.999, 644.999, 999999]\n",
    "group_name = ['< $585', \"$585 - 630\", \"$630 - 645\", \"$645 - 680\"]\n",
    "school_data_complete['spending_bins'] = pd.cut(school_data_complete['budget']/school_data_complete['size'], bins, labels = group_name)\n",
    "\n",
    "# Let's group by spending.\n",
    "by_spending = school_data_complete.groupby('spending_bins')\n",
    "\n",
    "# Now we take the averages.\n",
    "avg_math_scores = by_spending['math_score'].mean()\n",
    "avg_reading_scores = by_spending['reading_score'].mean()\n",
    "passing_math_scores = school_data_complete[school_data_complete['math_score'] >= 70].groupby('spending_bins')['Student ID'].count()/by_spending['Student ID'].count()\n",
    "passing_reading_scores = school_data_complete[school_data_complete['reading_score'] >= 70].groupby('spending_bins')['Student ID'].count()/by_spending['Student ID'].count()\n",
    "overall_passing_scores = school_data_complete[(school_data_complete['reading_score'] >= 70) & (school_data_complete['math_score'] >= 70)].groupby('spending_bins')['Student ID'].count()/by_spending['Student ID'].count()\n",
    "\n",
    "            \n",
    "# Create the dataframe.            \n",
    "scores_by_spending = pd.DataFrame({\n",
    "    \"Average Math Score\": avg_math_scores,\n",
    "    \"Average Reading Score\": avg_reading_scores,\n",
    "    '% Passing Math': passing_math_scores,\n",
    "    '% Passing Reading': passing_reading_scores,\n",
    "    \"Overall Passing Rate\": overall_passing_scores\n",
    "            \n",
    "})\n",
    "            \n",
    "# Let's reorder our columns.\n",
    "scores_by_spending = scores_by_spending[[\n",
    "    \"Average Math Score\",\n",
    "    \"Average Reading Score\",\n",
    "    '% Passing Math',\n",
    "    '% Passing Reading',\n",
    "    \"Overall Passing Rate\"\n",
    "]]\n",
    "\n",
    "scores_by_spending.index.name = \"Per Student Budget\"\n",
    "scores_by_spending = scores_by_spending.reindex(group_name)\n",
    "\n",
    "# We can now format our dataframe\n",
    "scores_by_spending.style.format({'Average Math Score': '{:.1f}', \n",
    "                              'Average Reading Score': '{:.1f}', \n",
    "                              '% Passing Math': '{:.1%}', \n",
    "                              '% Passing Reading':'{:.1%}', \n",
    "                              'Overall Passing Rate': '{:.1%}'})"
   ]
  },
  {
   "cell_type": "markdown",
   "metadata": {},
   "source": [
    "## Scores by School Size"
   ]
  },
  {
   "cell_type": "markdown",
   "metadata": {},
   "source": [
    "* Perform the same operations as above, based on school size."
   ]
  },
  {
   "cell_type": "code",
   "execution_count": 33,
   "metadata": {},
   "outputs": [
    {
     "data": {
      "text/html": [
       "<style  type=\"text/css\" >\n",
       "</style><table id=\"T_7c78034a_3cee_11eb_9550_367ddaacacc8\" ><thead>    <tr>        <th class=\"blank level0\" ></th>        <th class=\"col_heading level0 col0\" >Average Math Score</th>        <th class=\"col_heading level0 col1\" >Average Reading Score</th>        <th class=\"col_heading level0 col2\" >% Passing Math</th>        <th class=\"col_heading level0 col3\" >% Passing Reading</th>        <th class=\"col_heading level0 col4\" >Overall Passing Rate</th>    </tr>    <tr>        <th class=\"index_name level0\" >Total Students</th>        <th class=\"blank\" ></th>        <th class=\"blank\" ></th>        <th class=\"blank\" ></th>        <th class=\"blank\" ></th>        <th class=\"blank\" ></th>    </tr></thead><tbody>\n",
       "                <tr>\n",
       "                        <th id=\"T_7c78034a_3cee_11eb_9550_367ddaacacc8level0_row0\" class=\"row_heading level0 row0\" >Small (<1000)</th>\n",
       "                        <td id=\"T_7c78034a_3cee_11eb_9550_367ddaacacc8row0_col0\" class=\"data row0 col0\" >83.8</td>\n",
       "                        <td id=\"T_7c78034a_3cee_11eb_9550_367ddaacacc8row0_col1\" class=\"data row0 col1\" >83.8</td>\n",
       "                        <td id=\"T_7c78034a_3cee_11eb_9550_367ddaacacc8row0_col2\" class=\"data row0 col2\" >94.0%</td>\n",
       "                        <td id=\"T_7c78034a_3cee_11eb_9550_367ddaacacc8row0_col3\" class=\"data row0 col3\" >96.0%</td>\n",
       "                        <td id=\"T_7c78034a_3cee_11eb_9550_367ddaacacc8row0_col4\" class=\"data row0 col4\" >90.1%</td>\n",
       "            </tr>\n",
       "            <tr>\n",
       "                        <th id=\"T_7c78034a_3cee_11eb_9550_367ddaacacc8level0_row1\" class=\"row_heading level0 row1\" >Medium (1000-2000)</th>\n",
       "                        <td id=\"T_7c78034a_3cee_11eb_9550_367ddaacacc8row1_col0\" class=\"data row1 col0\" >83.4</td>\n",
       "                        <td id=\"T_7c78034a_3cee_11eb_9550_367ddaacacc8row1_col1\" class=\"data row1 col1\" >83.4</td>\n",
       "                        <td id=\"T_7c78034a_3cee_11eb_9550_367ddaacacc8row1_col2\" class=\"data row1 col2\" >93.6%</td>\n",
       "                        <td id=\"T_7c78034a_3cee_11eb_9550_367ddaacacc8row1_col3\" class=\"data row1 col3\" >96.8%</td>\n",
       "                        <td id=\"T_7c78034a_3cee_11eb_9550_367ddaacacc8row1_col4\" class=\"data row1 col4\" >90.6%</td>\n",
       "            </tr>\n",
       "            <tr>\n",
       "                        <th id=\"T_7c78034a_3cee_11eb_9550_367ddaacacc8level0_row2\" class=\"row_heading level0 row2\" >Large (>2000)</th>\n",
       "                        <td id=\"T_7c78034a_3cee_11eb_9550_367ddaacacc8row2_col0\" class=\"data row2 col0\" >77.5</td>\n",
       "                        <td id=\"T_7c78034a_3cee_11eb_9550_367ddaacacc8row2_col1\" class=\"data row2 col1\" >77.5</td>\n",
       "                        <td id=\"T_7c78034a_3cee_11eb_9550_367ddaacacc8row2_col2\" class=\"data row2 col2\" >68.7%</td>\n",
       "                        <td id=\"T_7c78034a_3cee_11eb_9550_367ddaacacc8row2_col3\" class=\"data row2 col3\" >82.1%</td>\n",
       "                        <td id=\"T_7c78034a_3cee_11eb_9550_367ddaacacc8row2_col4\" class=\"data row2 col4\" >56.6%</td>\n",
       "            </tr>\n",
       "    </tbody></table>"
      ],
      "text/plain": [
       "<pandas.io.formats.style.Styler at 0x7fd487c70fd0>"
      ]
     },
     "execution_count": 33,
     "metadata": {},
     "output_type": "execute_result"
    }
   ],
   "source": [
    "# Create more bins.\n",
    "bins = [0, 999, 1999, 99999999999]\n",
    "group_name = [\"Small (<1000)\", \"Medium (1000-2000)\" , \"Large (>2000)\"]\n",
    "school_data_complete['size_bins'] = pd.cut(school_data_complete['size'], bins, labels = group_name)\n",
    "\n",
    "# Now we follow the same steps as above group by spending\n",
    "by_size = school_data_complete.groupby('size_bins')\n",
    "\n",
    "# calculations (averages)\n",
    "avg_math_scores = by_size['math_score'].mean()\n",
    "avg_reading_scores = by_size['math_score'].mean()\n",
    "passing_math_scores = school_data_complete[school_data_complete['math_score'] >= 70].groupby('size_bins')['Student ID'].count()/by_size['Student ID'].count()\n",
    "passing_reading_scores = school_data_complete[school_data_complete['reading_score'] >= 70].groupby('size_bins')['Student ID'].count()/by_size['Student ID'].count()\n",
    "overall_passing_scores = school_data_complete[(school_data_complete['reading_score'] >= 70) & (school_data_complete['math_score'] >= 70)].groupby('size_bins')['Student ID'].count()/by_size['Student ID'].count()\n",
    "\n",
    "            \n",
    "# Create the new dateframe.           \n",
    "scores_by_size = pd.DataFrame({\n",
    "    \"Average Math Score\": avg_math_scores,\n",
    "    \"Average Reading Score\": avg_reading_scores,\n",
    "    '% Passing Math': passing_math_scores,\n",
    "    '% Passing Reading': passing_reading_scores,\n",
    "    \"Overall Passing Rate\": overall_passing_scores\n",
    "            \n",
    "})\n",
    "            \n",
    "# Now we can reorder the columns.\n",
    "scores_by_size = scores_by_size[[\n",
    "    \"Average Math Score\",\n",
    "    \"Average Reading Score\",\n",
    "    '% Passing Math',\n",
    "    '% Passing Reading',\n",
    "    \"Overall Passing Rate\"\n",
    "]]\n",
    "\n",
    "scores_by_size.index.name = \"Total Students\"\n",
    "scores_by_size = scores_by_size.reindex(group_name)\n",
    "\n",
    "# Now we can format our data.\n",
    "scores_by_size.style.format({'Average Math Score': '{:.1f}', \n",
    "                              'Average Reading Score': '{:.1f}', \n",
    "                              '% Passing Math': '{:.1%}', \n",
    "                              '% Passing Reading':'{:.1%}', \n",
    "                              'Overall Passing Rate': '{:.1%}'})"
   ]
  },
  {
   "cell_type": "markdown",
   "metadata": {},
   "source": [
    "## Scores by School Type"
   ]
  },
  {
   "cell_type": "markdown",
   "metadata": {},
   "source": [
    "* Perform the same operations as above, based on school type"
   ]
  },
  {
   "cell_type": "code",
   "execution_count": 34,
   "metadata": {},
   "outputs": [
    {
     "data": {
      "text/html": [
       "<style  type=\"text/css\" >\n",
       "</style><table id=\"T_7c80c9f8_3cee_11eb_9550_367ddaacacc8\" ><thead>    <tr>        <th class=\"blank level0\" ></th>        <th class=\"col_heading level0 col0\" >Average Math Score</th>        <th class=\"col_heading level0 col1\" >Average Reading Score</th>        <th class=\"col_heading level0 col2\" >% Passing Math</th>        <th class=\"col_heading level0 col3\" >% Passing Reading</th>        <th class=\"col_heading level0 col4\" >Overall Passing Rate</th>    </tr>    <tr>        <th class=\"index_name level0\" >Type of School</th>        <th class=\"blank\" ></th>        <th class=\"blank\" ></th>        <th class=\"blank\" ></th>        <th class=\"blank\" ></th>        <th class=\"blank\" ></th>    </tr></thead><tbody>\n",
       "                <tr>\n",
       "                        <th id=\"T_7c80c9f8_3cee_11eb_9550_367ddaacacc8level0_row0\" class=\"row_heading level0 row0\" >Charter</th>\n",
       "                        <td id=\"T_7c80c9f8_3cee_11eb_9550_367ddaacacc8row0_col0\" class=\"data row0 col0\" >83.4</td>\n",
       "                        <td id=\"T_7c80c9f8_3cee_11eb_9550_367ddaacacc8row0_col1\" class=\"data row0 col1\" >83.4</td>\n",
       "                        <td id=\"T_7c80c9f8_3cee_11eb_9550_367ddaacacc8row0_col2\" class=\"data row0 col2\" >93.7%</td>\n",
       "                        <td id=\"T_7c80c9f8_3cee_11eb_9550_367ddaacacc8row0_col3\" class=\"data row0 col3\" >96.6%</td>\n",
       "                        <td id=\"T_7c80c9f8_3cee_11eb_9550_367ddaacacc8row0_col4\" class=\"data row0 col4\" >90.6%</td>\n",
       "            </tr>\n",
       "            <tr>\n",
       "                        <th id=\"T_7c80c9f8_3cee_11eb_9550_367ddaacacc8level0_row1\" class=\"row_heading level0 row1\" >District</th>\n",
       "                        <td id=\"T_7c80c9f8_3cee_11eb_9550_367ddaacacc8row1_col0\" class=\"data row1 col0\" >77.0</td>\n",
       "                        <td id=\"T_7c80c9f8_3cee_11eb_9550_367ddaacacc8row1_col1\" class=\"data row1 col1\" >77.0</td>\n",
       "                        <td id=\"T_7c80c9f8_3cee_11eb_9550_367ddaacacc8row1_col2\" class=\"data row1 col2\" >66.5%</td>\n",
       "                        <td id=\"T_7c80c9f8_3cee_11eb_9550_367ddaacacc8row1_col3\" class=\"data row1 col3\" >80.9%</td>\n",
       "                        <td id=\"T_7c80c9f8_3cee_11eb_9550_367ddaacacc8row1_col4\" class=\"data row1 col4\" >53.7%</td>\n",
       "            </tr>\n",
       "    </tbody></table>"
      ],
      "text/plain": [
       "<pandas.io.formats.style.Styler at 0x7fd487c70b50>"
      ]
     },
     "execution_count": 34,
     "metadata": {},
     "output_type": "execute_result"
    }
   ],
   "source": [
    "# We must group by type of school (District or Charter)\n",
    "by_type = school_data_complete.groupby(\"type\")\n",
    "\n",
    "# Next we can calculate the averages.\n",
    "avg_math_scores = by_type['math_score'].mean()\n",
    "avg_reading_scores = by_type['math_score'].mean()\n",
    "passing_math_scores = school_data_complete[school_data_complete['math_score'] >= 70].groupby('type')['Student ID'].count()/by_type['Student ID'].count()\n",
    "passing_reading_scores = school_data_complete[school_data_complete['reading_score'] >= 70].groupby('type')['Student ID'].count()/by_type['Student ID'].count()\n",
    "overall_passing_scores = school_data_complete[(school_data_complete['reading_score'] >= 70) & (school_data_complete['math_score'] >= 70)].groupby('type')['Student ID'].count()/by_type['Student ID'].count()\n",
    "\n",
    "# Create the dataframe.          \n",
    "scores_by_type = pd.DataFrame({\n",
    "    \"Average Math Score\": avg_math_scores,\n",
    "    \"Average Reading Score\": avg_reading_scores,\n",
    "    '% Passing Math': passing_math_scores,\n",
    "    '% Passing Reading': passing_reading_scores,\n",
    "    \"Overall Passing Rate\": overall_passing_scores})\n",
    "    \n",
    "# Reorder the columns.\n",
    "scores_by_type = scores_by_type[[\n",
    "    \"Average Math Score\",\n",
    "    \"Average Reading Score\",\n",
    "    '% Passing Math',\n",
    "    '% Passing Reading',\n",
    "    \"Overall Passing Rate\"\n",
    "]]\n",
    "scores_by_type.index.name = \"Type of School\"\n",
    "\n",
    "\n",
    "# Lastly, let's format our dataframe.\n",
    "scores_by_type.style.format({'Average Math Score': '{:.1f}', \n",
    "                              'Average Reading Score': '{:.1f}', \n",
    "                              '% Passing Math': '{:.1%}', \n",
    "                              '% Passing Reading':'{:.1%}', \n",
    "                              'Overall Passing Rate': '{:.1%}'})"
   ]
  }
 ],
 "metadata": {
  "anaconda-cloud": {},
  "kernel_info": {
   "name": "python3"
  },
  "kernelspec": {
   "display_name": "Python 3",
   "language": "python",
   "name": "python3"
  },
  "language_info": {
   "codemirror_mode": {
    "name": "ipython",
    "version": 3
   },
   "file_extension": ".py",
   "mimetype": "text/x-python",
   "name": "python",
   "nbconvert_exporter": "python",
   "pygments_lexer": "ipython3",
   "version": "3.8.3"
  },
  "latex_envs": {
   "LaTeX_envs_menu_present": true,
   "autoclose": false,
   "autocomplete": true,
   "bibliofile": "biblio.bib",
   "cite_by": "apalike",
   "current_citInitial": 1,
   "eqLabelWithNumbers": true,
   "eqNumInitial": 1,
   "hotkeys": {
    "equation": "Ctrl-E",
    "itemize": "Ctrl-I"
   },
   "labels_anchors": false,
   "latex_user_defs": false,
   "report_style_numbering": false,
   "user_envs_cfg": false
  },
  "nteract": {
   "version": "0.8.4"
  }
 },
 "nbformat": 4,
 "nbformat_minor": 1
}
